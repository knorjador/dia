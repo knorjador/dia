{
 "cells": [
  {
   "cell_type": "code",
   "execution_count": null,
   "id": "33737ad4-5ab2-40a5-94df-4d6d12b03852",
   "metadata": {
    "tags": []
   },
   "outputs": [],
   "source": [
    "\n",
    "!pip install mlxtend\n"
   ]
  },
  {
   "cell_type": "code",
   "execution_count": null,
   "id": "27ab4499-dbbd-43e3-9448-b1595f8e7c62",
   "metadata": {
    "tags": []
   },
   "outputs": [],
   "source": [
    "\n",
    "import pandas as pd\n",
    "from mlxtend.frequent_patterns import apriori\n",
    "from mlxtend.frequent_patterns import association_rules\n"
   ]
  },
  {
   "cell_type": "code",
   "execution_count": null,
   "id": "bec2c083-8d23-4b5f-8576-d49bd6f49d95",
   "metadata": {
    "tags": []
   },
   "outputs": [],
   "source": [
    "\n",
    "# Example 1 \n",
    "\n",
    "data = {'ID':[1,2,3,4,5,6],\n",
    "       'Onion':[1,0,0,1,1,1],\n",
    "       'Potato':[1,1,0,1,1,1],\n",
    "       'Burger':[1,1,0,0,1,1],\n",
    "       'Milk':[0,1,1,1,0,1],\n",
    "       'Beer':[0,0,1,0,1,0]}\n",
    "\n",
    "df = pd.DataFrame(data)\n",
    "\n",
    "#print(df)\n",
    "\n",
    "frequent_itemsets = apriori(df[['Onion', 'Potato', 'Burger', 'Milk', 'Beer' ]], min_support=0.50, use_colnames=True)\n",
    "\n",
    "print(frequent_itemsets)\n",
    "\n",
    "rules = association_rules(frequent_itemsets, metric='lift', min_threshold=1)\n",
    "\n",
    "print(rules)\n"
   ]
  },
  {
   "cell_type": "code",
   "execution_count": null,
   "id": "15d47daf-0ae7-4c07-a2ed-3b127af08801",
   "metadata": {
    "tags": []
   },
   "outputs": [],
   "source": [
    "\n",
    "# Example 2\n",
    "\n",
    "retail_shopping_basket = {'ID':[1,2,3,4,5,6],\n",
    "                         'Basket':[['Beer', 'Diaper', 'Pretzels', 'Chips', 'Aspirin'],\n",
    "                                   ['Diaper', 'Beer', 'Chips', 'Lotion', 'Juice', 'BabyFood', 'Milk'],\n",
    "                                   ['Soda', 'Chips', 'Milk'],\n",
    "                                   ['Soup', 'Beer', 'Diaper', 'Milk', 'IceCream'],\n",
    "                                   ['Soda', 'Coffee', 'Milk', 'Bread'],\n",
    "                                   ['Beer', 'Chips']\n",
    "                                  ]\n",
    "                         }\n",
    "\n",
    "retail = pd.DataFrame(retail_shopping_basket)\n",
    "\n",
    "pd.options.display.max_colwidth=100\n",
    "\n",
    "#print(retail)\n",
    "\n",
    "retail = retail.drop('Basket' ,1).join(retail.Basket.str.join(',').str.get_dummies(','))\n",
    "\n",
    "#print(retail)\n",
    "\n",
    "frequent_itemsets_2 = apriori(retail.drop('ID',1), use_colnames=True)\n",
    "\n",
    "#print(frequent_itemsets_2)\n",
    "\n",
    "rules_2 = association_rules(frequent_itemsets_2, metric='lift')\n",
    "\n",
    "print(rules_2)\n",
    "\n",
    "rules_2 = association_rules(frequent_itemsets_2) \n",
    "\n",
    "print(rules_2)\n"
   ]
  },
  {
   "cell_type": "code",
   "execution_count": null,
   "id": "76ed7f61-269d-4d24-877e-5ba76e42916c",
   "metadata": {
    "tags": []
   },
   "outputs": [],
   "source": [
    "\n",
    "# Example 3\n",
    "\n",
    "movies = pd.read_csv('./movies.csv')\n",
    "\n",
    "movies_ohe = movies.drop('genres',1).join(movies.genres.str.get_dummies())\n",
    "\n",
    "pd.options.display.max_columns=100\n",
    "\n",
    "stat1 = movies_ohe.drop(['title', 'movieId'],1).apply(pd.value_counts)\n",
    "stat1 = stat1.transpose().drop(0,1).sort_values(by=1, ascending=False).rename(columns={1:'No. of movies'})\n",
    "\n",
    "stat2 = movies.join(movies.genres.str.split('|').reset_index().genres.str.len(), rsuffix='r').rename(columns={'genresr':'genre_count'})\n",
    "stat2 = stat2[stat2['genre_count']==1].drop('movieId',1).groupby('genres').sum().sort_values(by='genre_count', ascending=False)\n",
    "\n",
    "stat = stat1.merge(stat2, how='left', left_index=True, right_index=True).fillna(0)\n",
    "stat.genre_count=stat.genre_count.astype(int)\n",
    "stat.rename(columns={'genre_count': 'No. of movies with only 1 genre'},inplace=True)\n",
    "\n",
    "print(stat)\n"
   ]
  },
  {
   "cell_type": "code",
   "execution_count": 17,
   "id": "2aafe941-f0e6-4db2-a3b5-3719edd1b80a",
   "metadata": {
    "tags": []
   },
   "outputs": [
    {
     "data": {
      "text/plain": [
       "Text(0.5, 1.0, 'distribution of number of genres')"
      ]
     },
     "execution_count": 17,
     "metadata": {},
     "output_type": "execute_result"
    },
    {
     "data": {
      "image/png": "[encoded data removed]",
      "text/plain": [
       "<Figure size 640x480 with 1 Axes>"
      ]
     },
     "metadata": {},
     "output_type": "display_data"
    }
   ],
   "source": [
    "\n",
    "import matplotlib.pyplot as plt\n",
    "%matplotlib inline\n",
    "movies_ohe.set_index(['movieId','title']).sum(axis=1).hist()\n",
    "plt.title('distribution of number of genres')\n",
    "\n"
   ]
  },
  {
   "cell_type": "code",
   "execution_count": null,
   "id": "d8d3fe85-f93b-481d-8988-d4943140f570",
   "metadata": {
    "tags": []
   },
   "outputs": [],
   "source": [
    "\n",
    "# Get frequent items && rules \n",
    "\n",
    "frequent_itemsets_movies = apriori(movies_ohe,use_colnames=True, min_support=0.025)\n",
    "                                   \n",
    "print(frequent_itemsets_movies)\n",
    "\n",
    "rules_movies = association_rules(frequent_itemsets_movies, metric='lift', min_threshold=1.25)\n",
    "\n",
    "print(rules_movies)\n"
   ]
  }
 ],
 "metadata": {
  "kernelspec": {
   "display_name": "Python 3 (ipykernel)",
   "language": "python",
   "name": "python3"
  },
  "language_info": {
   "codemirror_mode": {
    "name": "ipython",
    "version": 3
   },
   "file_extension": ".py",
   "mimetype": "text/x-python",
   "name": "python",
   "nbconvert_exporter": "python",
   "pygments_lexer": "ipython3",
   "version": "3.11.5"
  }
 },
 "nbformat": 4,
 "nbformat_minor": 5
}
