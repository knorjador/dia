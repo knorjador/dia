{
 "cells": [
  {
   "cell_type": "markdown",
   "metadata": {},
   "source": [
    "# EDA"
   ]
  },
  {
   "cell_type": "code",
   "execution_count": null,
   "metadata": {},
   "outputs": [],
   "source": [
    "import pandas as pd\n",
    "import matplotlib.pyplot as plt\n",
    "from sklearn.preprocessing import LabelEncoder"
   ]
  },
  {
   "cell_type": "code",
   "execution_count": null,
   "metadata": {},
   "outputs": [],
   "source": [
    "df = pd.read_csv(\"card_credit_fraud.csv\", delimiter=\";\", decimal=\",\")\n",
    "df.head()"
   ]
  },
  {
   "cell_type": "markdown",
   "metadata": {},
   "source": [
    "Notre Dataframe ne s'affiche pas correctement lorsqu'on utilise `df.head()`. Après inspection de notre CSV, il semblerait que le problème soit les guillemets entourant chacune des lignes du CSV. Nous pouvons donc retirer ces guillemets et voir ce que cela donne :\n",
    "\n",
    "## Avant\n",
    "![image.png](src/trouver_guillemets.png)\n",
    "\n",
    "## Après\n",
    "![image2.png](src/csv_sans_guillemet.png)\n",
    "\n",
    "\n",
    "Notre Dataframe devrait maintenant s'afficher correctement :\n"
   ]
  },
  {
   "cell_type": "code",
   "execution_count": null,
   "metadata": {},
   "outputs": [],
   "source": [
    "df = pd.read_csv(\"card_credit_fraud.csv\", delimiter=\";\", decimal=\",\")\n",
    "df.head()"
   ]
  },
  {
   "cell_type": "markdown",
   "metadata": {},
   "source": [
    "# Observation du dataframe"
   ]
  },
  {
   "cell_type": "markdown",
   "metadata": {},
   "source": [
    "**Taille** : 1008213 lignes par 11 colonnes.\n",
    "\n",
    "**Présence de valeur null** : Aucune valeur null\n",
    "\n",
    "**Description de nos features** : \n",
    "\n",
    "| Colonne          | Description                                                                                                                |\n",
    "|------------------|----------------------------------------------------------------------------------------------------------------------------|\n",
    "| transactionId    | Sert d'index                                                                                                               |\n",
    "| step             | Heure à laquelle la transaction s'est passée. Minimum = 1 Maximum = 743 ; 743 / 24 ~= 31                                |\n",
    "| type             | Le type de la transaction. Peut prendre plusieurs valeurs sous forme de chaînes de caractères. Pour mapper les données, utiliser `LabelEncoder de sklearn.preprocessing` |\n",
    "| amount           | Le montant de chaque transaction                                                                                          |\n",
    "| nameOrig         | Numéro de compte de l'émetteur. Pour mapper les données, utiliser `LabelEncoder de sklearn.preprocessing`                                                                                            |\n",
    "| oldbalanceOrg    | Solde de l'émetteur avant la transaction                                                                                   |\n",
    "| newbalanceOrg    | Solde de l'émetteur après la transaction                                                                                   |\n",
    "| nameDest         | Numéro de compte du destinataire. Pour mapper les données, utiliser `LabelEncoder de sklearn.preprocessing`                                                                                          |\n",
    "| oldbalanceDest   | Solde du destinataire avant la transaction                                                                                 |\n",
    "| newbalanceDest   | Solde du destinataire après la transaction                                                                                 |\n",
    "| isFraud          | Notre cible, non fraude = 0 ; fraude = 1                                                                                   |\n",
    "\n"
   ]
  },
  {
   "cell_type": "code",
   "execution_count": null,
   "metadata": {},
   "outputs": [],
   "source": [
    "print(\"Taille du df : \", df.shape)\n",
    "print()\n",
    "print(\"Présence de valeur nul:\", df.isnull().any())\n",
    "print()\n",
    "print(\"Valeur maximum dans step :\", df[\"step\"].max())\n",
    "print()\n",
    "print()"
   ]
  },
  {
   "cell_type": "markdown",
   "metadata": {},
   "source": [
    "## Visualisation de la répartition des données"
   ]
  },
  {
   "cell_type": "markdown",
   "metadata": {},
   "source": [
    "Nous pouvons constater que notre dataset est grandement déséquilibré. 99,2% des data points ne sont pas des fraudes et seulement 0.08% constituent réellement des fraudes. un déséquilibre des classes risqueraient de biaisé l'entraînement des modèles et les prédictions qui en résulteront."
   ]
  },
  {
   "cell_type": "code",
   "execution_count": null,
   "metadata": {},
   "outputs": [],
   "source": [
    "# Create the pie chart\n",
    "plt.pie(df[\"isFraud\"].value_counts(), labels=[0,1], autopct='%1.1f%%')\n",
    "\n",
    "# Add a title and adjust the font size\n",
    "plt.title('Distribution of fraud and non-fraud in our dataset', fontsize=14)\n",
    "\n",
    "# Add a legend and adjust the font size\n",
    "plt.legend([\"Non-Fraud\", \"Fraud\"], fontsize=12)\n",
    "\n",
    "# Add some padding to the plot\n",
    "plt.tight_layout()\n",
    "\n",
    "# Display the plot\n",
    "plt.show()\n"
   ]
  },
  {
   "cell_type": "markdown",
   "metadata": {},
   "source": [
    "## Nettoyage des données"
   ]
  },
  {
   "cell_type": "markdown",
   "metadata": {},
   "source": [
    "### Drop des datapoints dont le type est différents de \"TRANSFER\" ou \"CASH_OUT\"\n",
    "\n",
    "Les valeurs que peuvent prendre certaines features dans nos datapoints semble optionnel à l'identification d'une fraude.\n",
    "\n",
    "Comme on peut le constater ci-dessous, les data points qualifiés comme fraudes ont systématiquement comme valeurs pour la colonne [\"type\"] `TRANSFER` ou `CASH_OUT`. Toutes transactions qui n'est pas d'un de ces deux types ne peux pas être considéré comme une fraude. Nous pouvons donc retirer de notre df tout enregitrement dont la valeurs de [\"type\"] est différente de `TRANSFER` ou `CASH_OUT`."
   ]
  },
  {
   "cell_type": "code",
   "execution_count": null,
   "metadata": {},
   "outputs": [],
   "source": [
    "filtered_df_with_transfer_and_cash_out = df[(df['type'] == \"TRANSFER\") | (df['type'] == \"CASH_OUT\")]\n",
    "\n",
    "print(\"Quantité de fraude / non fraude dans le df d'origine\", df[\"isFraud\"].value_counts(), \\\n",
    "      \"\"\n",
    "      \"Quantité de fraude / non fraude dans le df filtré avec transfer et cash_out : \" , filtered_df_with_transfer_and_cash_out[\"isFraud\"].value_counts())\n",
    "\n",
    "# Create the pie chart\n",
    "plt.pie(df[\"isFraud\"].value_counts(), labels=[0,1], autopct='%1.1f%%')\n",
    "\n",
    "# Add a title and adjust the font size\n",
    "plt.title('Distribution of fraud and non-fraud in our dataset', fontsize=14)\n",
    "\n",
    "# Add a legend and adjust the font size\n",
    "plt.legend([f\"Non-Fraud : \", \"Fraud\"], fontsize=12)\n",
    "\n",
    "# Add some padding to the plot\n",
    "plt.tight_layout()\n",
    "\n",
    "# Display the plot\n",
    "plt.show()"
   ]
  },
  {
   "cell_type": "markdown",
   "metadata": {},
   "source": [
    "## Mappage des données\n",
    " "
   ]
  },
  {
   "cell_type": "code",
   "execution_count": null,
   "metadata": {},
   "outputs": [],
   "source": [
    "le = LabelEncoder()\n",
    "\n",
    "df['type_encoded'] = le.fit_transform(df['type'])\n",
    "df['nameOrig_encoded'] = le.fit_transform(df['nameOrig'])\n",
    "df['nameDest_encoded'] = le.fit_transform(df['nameDest'])\n",
    "\n",
    "\n",
    "df.drop([\"type\", \"nameOrig\", \"nameDest\"], inplace=True, axis=1)\n",
    "\n",
    "df = df.reindex(columns=[\"transactionId\", \"step\", \"amount\", \"nameOrig_encoded\", \"oldbalanceOrg\", \"newbalanceOrig\", \"nameDest_encoded\", \"oldbalanceDest\", \"newbalanceDest\", \"isFraud\"])"
   ]
  },
  {
   "cell_type": "code",
   "execution_count": null,
   "metadata": {},
   "outputs": [],
   "source": [
    "df"
   ]
  },
  {
   "cell_type": "markdown",
   "metadata": {},
   "source": [
    "## Graphique de la nouvelle distribution des données"
   ]
  },
  {
   "cell_type": "code",
   "execution_count": null,
   "metadata": {},
   "outputs": [],
   "source": [
    "# Create the pie chart\n",
    "plt.pie(filtered_df_with_transfer_and_cash_out[\"isFraud\"].value_counts(), labels=[0,1], autopct='%1.1f%%')\n",
    "\n",
    "# Add a title and adjust the font size\n",
    "plt.title('Distribution of fraud and non-fraud in our dataset', fontsize=14)\n",
    "\n",
    "# Add a legend and adjust the font size\n",
    "plt.legend([\"Non-Fraud\", \"Fraud\"], fontsize=12)\n",
    "\n",
    "# Add some padding to the plot\n",
    "plt.tight_layout()\n",
    "\n",
    "# Display the plot\n",
    "plt.show()"
   ]
  },
  {
   "cell_type": "markdown",
   "metadata": {},
   "source": [
    "## En résumé\n",
    "\n",
    "**Taille** : 452933 lignes par 11 colonnes.\n",
    "\n",
    "**Présence de valeur null** : Aucune valeur null\n",
    "\n",
    "**Description de nos features** : \n",
    "\n",
    "| Colonne          | Description                                                                                                                |\n",
    "|------------------|----------------------------------------------------------------------------------------------------------------------------|\n",
    "| transactionId    | Sert d'index                                                                                                               |\n",
    "| step             | Heure à laquelle la transaction s'est passée. Minimum = 1 Maximum = 743 ; 743 / 24 ~= 31                                |\n",
    "| type_encoded             | Le type de la transaction. Peut prendre plusieurs valeurs sous forme de chaînes de caractères. Données mappée avec `LabelEncoder de sklearn.preprocessing` |\n",
    "| amount           | Le montant de chaque transaction                                                                                          |\n",
    "| nameOrig_encoded         | Numéro de compte de l'émetteur. Données mappée avec `LabelEncoder de sklearn.preprocessing`                                                                                            |\n",
    "| oldbalanceOrg    | Solde de l'émetteur avant la transaction                                                                                   |\n",
    "| newbalanceOrg    | Solde de l'émetteur après la transaction                                                                                   |\n",
    "| nameDest_encoded         | Numéro de compte du destinataire. Données mappée avec `LabelEncoder de sklearn.preprocessing`                                                                                          |\n",
    "| oldbalanceDest   | Solde du destinataire avant la transaction                                                                                 |\n",
    "| newbalanceDest   | Solde du destinataire après la transaction                                                                                 |\n",
    "| isFraud          | Notre cible, non fraude = 0 ; fraude = 1                                                                                   |\n",
    "\n",
    "![image.png](src/distribution_class_dataset_filtrer_transfer_cashout.png)\n"
   ]
  },
  {
   "cell_type": "markdown",
   "metadata": {},
   "source": [
    "# Entraînement des modèles"
   ]
  },
  {
   "cell_type": "code",
   "execution_count": null,
   "metadata": {},
   "outputs": [],
   "source": [
    "\n",
    "df"
   ]
  },
  {
   "cell_type": "markdown",
   "metadata": {},
   "source": [
    "Plan :\n",
    "\n",
    "train_test_split\n",
    "\n",
    "for each models :\n",
    "    train with no over/undersampling \n",
    "    train using Nearmiss\n",
    "    train using smote\n",
    "\n",
    "\n",
    "\n",
    "\n",
    "\n"
   ]
  },
  {
   "cell_type": "code",
   "execution_count": null,
   "metadata": {},
   "outputs": [],
   "source": []
  }
 ],
 "metadata": {
  "kernelspec": {
   "display_name": ".venv",
   "language": "python",
   "name": "python3"
  },
  "language_info": {
   "codemirror_mode": {
    "name": "ipython",
    "version": 3
   },
   "file_extension": ".py",
   "mimetype": "text/x-python",
   "name": "python",
   "nbconvert_exporter": "python",
   "pygments_lexer": "ipython3",
   "version": "3.11.0"
  }
 },
 "nbformat": 4,
 "nbformat_minor": 2
}
