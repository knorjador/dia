{
 "cells": [
  {
   "cell_type": "code",
   "execution_count": 18,
   "metadata": {},
   "outputs": [],
   "source": [
    "import pickle\n",
    "import pandas as pd\n",
    "\n",
    "# Charger le modèle depuis le fichier pickle\n",
    "with open('model_naive_bayes_smote.pkl', 'rb') as file:\n",
    "    model = pickle.load(file)\n",
    "\n"
   ]
  },
  {
   "cell_type": "code",
   "execution_count": 21,
   "metadata": {},
   "outputs": [
    {
     "name": "stdout",
     "output_type": "stream",
     "text": [
      "   step  type    amount  oldbalanceOrg  newbalanceOrig  oldbalanceDest  \\\n",
      "0     1     2   9839.64      170136.00       160296.36               0   \n",
      "1     1     2   1864.28       21249.00        19384.72               0   \n",
      "2     1     4    181.00         181.00            0.00               0   \n",
      "3     1     1    181.00         181.00            0.00           21182   \n",
      "4     1     2  11668.14       41554.00        29885.86               0   \n",
      "5     1     2   7817.71       53860.00        46042.29               0   \n",
      "6     1     2   7107.77      183195.00       176087.23               0   \n",
      "7     1     2   7861.64      176087.23       168225.59               0   \n",
      "8     1     2   4024.36        2671.00            0.00               0   \n",
      "\n",
      "   newbalanceDest  \n",
      "0               0  \n",
      "1               0  \n",
      "2               0  \n",
      "3               0  \n",
      "4               0  \n",
      "5               0  \n",
      "6               0  \n",
      "7               0  \n",
      "8               0  \n"
     ]
    }
   ],
   "source": [
    "# Créer le dataframe avec les nouvelles données\n",
    "data = pd.DataFrame({\n",
    "    'step': [1, 1, 1, 1, 1, 1, 1, 1, 1],\n",
    "    'type': [2, 2, 4, 1, 2, 2, 2, 2, 2],\n",
    "    'amount': [9839.64, 1864.28, 181, 181, 11668.14, 7817.71, 7107.77, 7861.64, 4024.36],\n",
    "    'oldbalanceOrg': [170136, 21249, 181, 181, 41554, 53860, 183195, 176087.23, 2671],\n",
    "    'newbalanceOrig': [160296.36, 19384.72, 0, 0, 29885.86, 46042.29, 176087.23, 168225.59, 0],\n",
    "    'oldbalanceDest': [0, 0, 0, 21182, 0, 0, 0, 0, 0],\n",
    "    'newbalanceDest': [0, 0, 0, 0, 0, 0, 0, 0, 0],\n",
    "})\n",
    "\n",
    "print(data)\n"
   ]
  },
  {
   "cell_type": "code",
   "execution_count": 22,
   "metadata": {},
   "outputs": [
    {
     "name": "stdout",
     "output_type": "stream",
     "text": [
      "[0 0 0 0 0 0 0 0 0]\n"
     ]
    }
   ],
   "source": [
    "# Sélectionner les caractéristiques (X) des nouvelles données\n",
    "X_new = data[['type', 'step', 'amount', 'oldbalanceOrg', 'newbalanceOrig', 'oldbalanceDest', 'newbalanceDest']]\n",
    "\n",
    "# Faire des prédictions avec le modèle chargé\n",
    "predictions = model.predict(X_new)\n",
    "\n",
    "# Afficher les prédictions\n",
    "print(predictions)\n",
    "\n"
   ]
  }
 ],
 "metadata": {
  "kernelspec": {
   "display_name": "base",
   "language": "python",
   "name": "python3"
  },
  "language_info": {
   "codemirror_mode": {
    "name": "ipython",
    "version": 3
   },
   "file_extension": ".py",
   "mimetype": "text/x-python",
   "name": "python",
   "nbconvert_exporter": "python",
   "pygments_lexer": "ipython3",
   "version": "3.11.7"
  }
 },
 "nbformat": 4,
 "nbformat_minor": 2
}
