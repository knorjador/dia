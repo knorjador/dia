{
 "cells": [
  {
   "cell_type": "markdown",
   "id": "cceb82be",
   "metadata": {},
   "source": [
    "\n",
    "Step 1\n",
    "\n",
    "Ecrire une fonction main, qui renvoie comme valeur de retour un int.\n",
    "La fonction doit afficher dans la console : « Bienvenue dans le jeu de la dichotomie ! » et fermer le\n",
    "programme.\n"
   ]
  },
  {
   "cell_type": "code",
   "execution_count": null,
   "id": "30cb9f5b",
   "metadata": {},
   "outputs": [],
   "source": [
    "\n",
    "def main():\n",
    "    print('Bienvenue dans le jeu de la dichotomie ! ')\n",
    "    return 0\n",
    "\n",
    "main()\n"
   ]
  },
  {
   "cell_type": "markdown",
   "id": "83beb0cc",
   "metadata": {},
   "source": [
    "\n",
    "Step 2\n",
    "\n",
    "Dans la fonction main, récupérer le nom du joueur dans une variable userName, qu’il rentrera\n",
    "directement en console avec un commentaire.\n"
   ]
  },
  {
   "cell_type": "code",
   "execution_count": null,
   "id": "004800a0",
   "metadata": {
    "scrolled": true
   },
   "outputs": [],
   "source": [
    "\n",
    "def main():\n",
    "    print('Bienvenue dans le jeu de la dichotomie ! ')\n",
    "    # ici on récupère l'entrée clavier de l'utilisateur\n",
    "    username = input(\"Quel est ton prénom ? \")\n",
    "    username = username.lower().capitalize()\n",
    "    return 0\n",
    "\n",
    "main()\n"
   ]
  },
  {
   "cell_type": "markdown",
   "id": "738af67c",
   "metadata": {},
   "source": [
    "\n",
    "Step 3\n",
    "\n",
    "Donner les instructions du jeu en mettant en variable le nombre minimum et maximum.\n",
    "Exemple « Paul pense à un nombre entre 0 et 100 » où 0 est la valeur de la variable minValue et 100\n",
    "est la valeur de la variable maxValue.\n",
    "Pourquoi ne peut-on pas mettre la variable directement dans la fonction print ?\n",
    "\n",
    "On ne peut pas concaténer une chaîne de caractères et un \"int\" dans la fonction print(), il faut convertir les\n",
    "variables.\n"
   ]
  },
  {
   "cell_type": "code",
   "execution_count": null,
   "id": "c96fd514",
   "metadata": {},
   "outputs": [],
   "source": [
    "\n",
    "def main():\n",
    "    print('Bienvenue dans le jeu de la dichotomie ! ')\n",
    "    \n",
    "    # ici on récupère l'entrée clavier de l'utilisateur\n",
    "    username = input(\"Quel est ton prénom ? \")\n",
    "    username = username.lower().capitalize()\n",
    "    \n",
    "    # initialisation de min & max \n",
    "    min_value = 0\n",
    "    max_value = 100\n",
    "    \n",
    "    print(username + \", pense à un nombre entre \" + str(min_value) + \" et \" + str(max_value) + \" et je vais le deviner :=)\")\n",
    "    \n",
    "    return 0\n",
    "\n",
    "main()\n"
   ]
  },
  {
   "cell_type": "markdown",
   "id": "922142a2",
   "metadata": {},
   "source": [
    "\n",
    "Step 4\n",
    "\n",
    "Maintenant créer une structure itérative avec les conditions nécessaires pour deviner le nombre par\n",
    "la méthode de « dichotomie ».\n",
    "N’oubliez pas d’initialiser un compteur et l’utiliser pour compter le nombre de fois nécessaire pour\n",
    "trouver le bon nombre.\n",
    "Quel type de boucle est la plus adaptée ?\n",
    "Si la réponse est bonne le jeu doit s’arrêter.\n",
    "\n",
    "La boucle la plus adaptée est \"while\" car l'on ne connaît pas en avance le nombre d'itérations.\n"
   ]
  },
  {
   "cell_type": "code",
   "execution_count": null,
   "id": "4adbff77",
   "metadata": {},
   "outputs": [],
   "source": [
    "\n",
    "def main():\n",
    "    print('Bienvenue dans le jeu de la dichotomie ! ')\n",
    "    \n",
    "    # ici on récupère l'entrée clavier de l'utilisateur\n",
    "    username = input(\"Quel est ton prénom ? \")\n",
    "    username = username.lower().capitalize()\n",
    "    \n",
    "    # initialisation de min & max \n",
    "    min_value = 0\n",
    "    max_value = 100\n",
    "    \n",
    "    print(username + \", pense à un nombre entre \" + str(min_value) + \" et \" + str(max_value) + \" et je vais le deviner :=)\")\n",
    "    \n",
    "    # initialisation du compteur\n",
    "    trials = 0\n",
    "    submitted = ''\n",
    "    \n",
    "    # structure itérative\n",
    "    while (submitted != '='):\n",
    "        step = round((min_value + max_value) / 2)\n",
    "        submitted = input(\"Est-ce que ton nombre est plus grand, plus petit ou égal à \" + str(step) + \" ? [+/-/=] \")\n",
    "        if (submitted == '+'):\n",
    "            min_value = step\n",
    "            trials += 1\n",
    "        elif (submitted == '-'):\n",
    "            max_value = step\n",
    "            trials += 1\n",
    "        elif (submitted != '='):\n",
    "            submitted = input(\"Est-ce que ton nombre est plus grand, plus petit ou égal à \" + str(step) + \" ? [+/-/=] \")\n",
    "\n",
    "    trials += 1\n",
    "    \n",
    "    return 0\n",
    "\n",
    "main()\n"
   ]
  },
  {
   "cell_type": "code",
   "execution_count": null,
   "id": "3e734189",
   "metadata": {},
   "outputs": [],
   "source": [
    "\n",
    "Step 5\n",
    "\n",
    "Pour finir en sortant de la boucle, il faut afficher un compte rendu qui contient le nombre deviné et le\n",
    "nombre de questions posées pour trouver et un message de sortie.\n"
   ]
  },
  {
   "cell_type": "code",
   "execution_count": null,
   "id": "d0e43451",
   "metadata": {},
   "outputs": [],
   "source": [
    "\n",
    "def main():\n",
    "    print('Bienvenue dans le jeu de la dichotomie ! ')\n",
    "    \n",
    "    # ici on récupère l'entrée clavier de l'utilisateur\n",
    "    username = input(\"Quel est ton prénom ? \")\n",
    "    username = username.lower().capitalize()\n",
    "    \n",
    "    # initialisation de min & max \n",
    "    min_value = 0\n",
    "    max_value = 100\n",
    "    \n",
    "    print(username + \", pense à un nombre entre \" + str(min_value) + \" et \" + str(max_value) + \" et je vais le deviner :=)\")\n",
    "    \n",
    "    # initialisation du compteur\n",
    "    trials = 0\n",
    "    submitted = ''\n",
    "    \n",
    "    # structure itérative\n",
    "    while (submitted != '='):\n",
    "        step = round((min_value + max_value) / 2)\n",
    "        \n",
    "        if (step == 0 or step == 100 or max_value - min_value == 1):\n",
    "            break\n",
    "            \n",
    "        submitted = input(\"Est-ce que ton nombre est plus grand, plus petit ou égal à \" + str(step) + \" ? [+/-/=] \")\n",
    "        \n",
    "        if (submitted == '+'):\n",
    "            min_value = step\n",
    "            trials += 1\n",
    "        elif (submitted == '-'):\n",
    "            max_value = step\n",
    "            trials += 1\n",
    "        elif (submitted != '='):\n",
    "            submitted = input(\"Est-ce que ton nombre est plus grand, plus petit ou égal à \" + str(step) + \" ? [+/-/=] \")\n",
    "\n",
    "    trials += 1\n",
    "    \n",
    "    # compte-rendu avec le nombre deviné et le nombre d'essai\n",
    "    diplay_trials = \" essai\" if trials == 1 else \" essais\"\n",
    "    print(username + \", tu as pensé au nombre \" + str(step) + \" et je l'ai deviné en \" + str(trials) + diplay_trials + \".\")\n",
    "\n",
    "    return 0\n",
    "\n",
    "main()\n"
   ]
  }
 ],
 "metadata": {
  "kernelspec": {
   "display_name": "Python 3 (ipykernel)",
   "language": "python",
   "name": "python3"
  },
  "language_info": {
   "codemirror_mode": {
    "name": "ipython",
    "version": 3
   },
   "file_extension": ".py",
   "mimetype": "text/x-python",
   "name": "python",
   "nbconvert_exporter": "python",
   "pygments_lexer": "ipython3",
   "version": "3.11.5"
  }
 },
 "nbformat": 4,
 "nbformat_minor": 5
}
