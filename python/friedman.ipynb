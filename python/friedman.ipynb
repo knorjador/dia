{
 "cells": [
  {
   "cell_type": "markdown",
   "id": "dca6ed4c-d887-4e03-86cd-008477f51ee0",
   "metadata": {},
   "source": [
    "Déterminez si les expressions suivantes correspondent à des nombres de Friedman. Pour cela, vous les écrirez en Python\n",
    "puis exécuterez le code correspondant.\n",
    "\n",
    "- 7 + 3⁶\n",
    "- (3 + 4)³\n",
    "- 3⁶ - 5\n",
    "- (1 + 2⁸) x 5\n",
    "- (2 + 1⁸)⁷"
   ]
  },
  {
   "cell_type": "code",
   "execution_count": null,
   "id": "35ecace7-f1f7-4d17-aa6a-f0b21c88e91a",
   "metadata": {
    "tags": []
   },
   "outputs": [],
   "source": [
    "\n",
    "# result is 736 so it is Friedman number\n",
    "7 + 3**6\n",
    "\n",
    "# result is 823543 so it is Friedman number\n",
    "(3 + 4)**7\n",
    "\n",
    "# result is 724 so it is Friedman number\n",
    "3**6 - 5\n",
    "\n",
    "# result is 1285 so it is Friedman number\n",
    "(1 + 2**8) * 5\n",
    "\n",
    "# result is 2187 so it is Friedman number\n",
    "(2 + 1**8)**7\n"
   ]
  },
  {
   "cell_type": "markdown",
   "id": "081e13da-c26d-4344-bd13-90e2ac22e6ae",
   "metadata": {},
   "source": [
    "Essayez de prédire le résultat de chacune des instructions suivantes, puis vérifiez-le dans l’interpréteur Python :\n",
    "\n",
    "- (1+2)**3 => 27\n",
    "- \"Da\" * 4 => DaDaDaDa\n",
    "- \"Da\" + 3 => error \n",
    "- (\"Pa\"+\"La\") * 2 => PaLaPaLa\n",
    "- (\"Da\"*4) / 2 => error \n",
    "- 5 / 2 => 2.5\n",
    "- 5 // 2 => 2 \n",
    "- 5 % 2 => 1"
   ]
  },
  {
   "cell_type": "code",
   "execution_count": null,
   "id": "d75a49ed-fb12-4ff7-8e93-3f10dc08548e",
   "metadata": {},
   "outputs": [],
   "source": [
    "\n",
    "# result is equal to 27\n",
    "(1+2)**3\n",
    "\n",
    "# result is equal to DaDaDaDa\n",
    "\"Da\" * 4\n",
    "\n",
    "# result is a TypeError \"can only concatenate str (not \"int\") to str\"\n",
    "\"Da\" + 3 \n",
    "\n",
    "# result is equal to PaLaPaLa\n",
    "(\"Pa\"+\"La\") * 2\n",
    "\n",
    "# result is a TypeError \"unsupported operand type(s) for /: 'str' and 'int'\"\n",
    "(\"Da\"*4) / 2 \n",
    "\n",
    "# result is equal to 2.5\n",
    "5 / 2\n",
    "\n",
    "# result is equal to 2 \n",
    "5 // 2 \n",
    "\n",
    "# result is equal to 1\n",
    "5 % 2\n"
   ]
  },
  {
   "cell_type": "code",
   "execution_count": null,
   "id": "2302286c-fff4-4628-a799-352b4ef55687",
   "metadata": {},
   "outputs": [],
   "source": [
    "Essayez de prédire le résultat de chacune des instructions suivantes, puis vérifiez-le dans l’interpréteur Python :\n",
    "\n",
    "- str(4) * int(\"3\") => 12\n",
    "- int(\"3\") + float(\"3.2\") => 6.2\n",
    "- str(3) * float(\"3.2\") => 9.6\n",
    "- str(3/4) * 2 => 1.5"
   ]
  },
  {
   "cell_type": "code",
   "execution_count": null,
   "id": "4500b8f9-7425-4802-a5c3-cf315e4eb15f",
   "metadata": {},
   "outputs": [],
   "source": [
    "\n",
    "# result is equal to 444\n",
    "str(4) * int(\"3\")\n",
    "\n",
    "# result is equal to 6.2\n",
    "int(\"3\") + float(\"3.2\")\n",
    "\n",
    "# result is an error \"can't multiply sequence by non-int of type 'float'\"\n",
    "str(3) * float(\"3.2\")\n",
    "\n",
    "# result is equal to 0.750.75\n",
    "str(3/4) * 2\n"
   ]
  }
 ],
 "metadata": {
  "kernelspec": {
   "display_name": "Python 3 (ipykernel)",
   "language": "python",
   "name": "python3"
  },
  "language_info": {
   "codemirror_mode": {
    "name": "ipython",
    "version": 3
   },
   "file_extension": ".py",
   "mimetype": "text/x-python",
   "name": "python",
   "nbconvert_exporter": "python",
   "pygments_lexer": "ipython3",
   "version": "3.11.5"
  }
 },
 "nbformat": 4,
 "nbformat_minor": 5
}
