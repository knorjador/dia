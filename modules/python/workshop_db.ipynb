{
 "cells": [
  {
   "cell_type": "markdown",
   "id": "c8c3402a",
   "metadata": {},
   "source": [
    "\n",
    "Step 1\n",
    "Pour commencer, dans un nouveau fichier Jupyter Notebook à votre nom, créer le premier\n",
    "dictionnaire vide client1.\n"
   ]
  },
  {
   "cell_type": "code",
   "execution_count": null,
   "id": "16f22fba",
   "metadata": {
    "collapsed": true
   },
   "outputs": [],
   "source": [
    "\n",
    "client1 = {}\n"
   ]
  },
  {
   "cell_type": "markdown",
   "id": "0c7ee065",
   "metadata": {},
   "source": [
    "\n",
    "Step 2\n",
    "Récupérer les 4 données du client1 en utilisant une boucle, qu’il rentrera directement en console.\n",
    "Puis imprimer les données du premier client. N’oubliez pas le commentaire dans le bloc.\n"
   ]
  },
  {
   "cell_type": "code",
   "execution_count": null,
   "id": "68686ad6",
   "metadata": {},
   "outputs": [],
   "source": [
    "\n",
    "INFORMATIONS = ['prénom', 'nom', 'genre', 'solde']\n",
    "\n",
    "def getCustomer():\n",
    "    length = len(INFORMATIONS)\n",
    "    customer = {}\n",
    "    # boucle qui permet de récupérer les informations d'un client\n",
    "    for i in range(0, length):\n",
    "        submitted = input('Quel est son ' + INFORMATIONS[i] + ' ? ')\n",
    "        customer[INFORMATIONS[i]] = submitted\n",
    "    return customer \n",
    "\n",
    "client1 = getCustomer()\n",
    "\n",
    "print(client1)\n"
   ]
  },
  {
   "cell_type": "markdown",
   "id": "d562ad24",
   "metadata": {},
   "source": [
    "\n",
    "Step 3\n",
    "Créer une liste de 12 autres dictionnaires (clients) qui possèdent les mêmes clés (attributs).\n"
   ]
  },
  {
   "cell_type": "code",
   "execution_count": null,
   "id": "5e15650a",
   "metadata": {
    "collapsed": true
   },
   "outputs": [],
   "source": [
    "\n",
    "NB_CUSTOMERS = 12\n",
    "\n",
    "# liste de dictionnaires vides\n",
    "customers = [{} for i in range(0, NB_CUSTOMERS)]\n",
    "\n",
    "print(customers)\n",
    "\n"
   ]
  },
  {
   "cell_type": "markdown",
   "id": "0c6487ad",
   "metadata": {},
   "source": [
    "\n",
    "Step 4\n",
    "Créer une boucle pour récupérer les données de tous les clients. Exécuter la pour entrer leurs\n",
    "données directement en console. N’oubliez pas les commentaires.\n"
   ]
  },
  {
   "cell_type": "code",
   "execution_count": null,
   "id": "52e44545",
   "metadata": {
    "collapsed": true
   },
   "outputs": [],
   "source": [
    "\n",
    "INFORMATIONS = ['prénom', 'nom', 'genre', 'solde']\n",
    "NB_CUSTOMERS = 13\n",
    "\n",
    "def getCustomers():\n",
    "    customers = []\n",
    "    # boucle pour récupérer les informations des clients\n",
    "    for i in range(0, NB_CUSTOMERS):\n",
    "        print('Client n° ' + str(i + 1) + ' : ')\n",
    "        customers.append(getCustomer())\n",
    "    return customers\n",
    "\n",
    "def getCustomer():\n",
    "    length = len(INFORMATIONS)\n",
    "    customer = {}\n",
    "    # boucle qui permet de récupérer les informations d'un client\n",
    "    for i in range(0, length):\n",
    "        submitted = input('Quel est son ' + INFORMATIONS[i] + ' ? ')\n",
    "        customer[INFORMATIONS[i]] = submitted\n",
    "    return customer \n",
    "\n",
    "clients = getCustomers()\n",
    "\n",
    "print(clients)\n"
   ]
  },
  {
   "cell_type": "markdown",
   "id": "827b6f15",
   "metadata": {},
   "source": [
    "\n",
    "Step 5\n",
    "Écrire un bloc pour effectuer un retrait de 500 euros pour client4.\n"
   ]
  },
  {
   "cell_type": "code",
   "execution_count": null,
   "id": "83afd86e",
   "metadata": {
    "collapsed": true
   },
   "outputs": [],
   "source": [
    "\n",
    "INFORMATIONS = ['prénom', 'nom', 'genre', 'solde']\n",
    "NB_CUSTOMERS = 13\n",
    "\n",
    "def getCustomers():\n",
    "    customers = []\n",
    "    # boucle pour récupérer les informations des clients\n",
    "    for i in range(0, NB_CUSTOMERS):\n",
    "        print('Client n° ' + str(i + 1) + ' : ')\n",
    "        customers.append(getCustomer())\n",
    "    return customers\n",
    "\n",
    "def getCustomer():\n",
    "    length = len(INFORMATIONS)\n",
    "    customer = {}\n",
    "    # boucle qui permet de récupérer les informations d'un client\n",
    "    for i in range(0, length):\n",
    "        submitted = input('Quel est son ' + INFORMATIONS[i] + ' ? ')\n",
    "        customer[INFORMATIONS[i]] = submitted\n",
    "    return customer \n",
    "\n",
    "clients = getCustomers()\n",
    "\n",
    "# fonction qui permet de faire un retrait d'un montant à un client\n",
    "def withdraw(customer, amount):\n",
    "    index = customer - 1\n",
    "    customer[index]['solde'] = str(int(customer[index]['solde']) - amount)\n",
    "\n",
    "withdraw(4, 500)\n",
    "\n",
    "print(clients)\n"
   ]
  },
  {
   "cell_type": "markdown",
   "id": "23d6814d",
   "metadata": {},
   "source": [
    "\n",
    "Step 6\n",
    "Écrire un bloc pour afficher le solde total.\n"
   ]
  },
  {
   "cell_type": "code",
   "execution_count": null,
   "id": "815a3ede",
   "metadata": {},
   "outputs": [],
   "source": [
    "\n",
    "INFORMATIONS = ['prénom', 'nom', 'genre', 'solde']\n",
    "NB_CUSTOMERS = 13\n",
    "\n",
    "def getCustomers():\n",
    "    customers = []\n",
    "    # boucle pour récupérer les informations des clients\n",
    "    for i in range(0, NB_CUSTOMERS):\n",
    "        print('Client n° ' + str(i + 1) + ' : ')\n",
    "        customers.append(getCustomer())\n",
    "    return customers\n",
    "\n",
    "def getCustomer():\n",
    "    length = len(INFORMATIONS)\n",
    "    customer = {}\n",
    "    # boucle qui permet de récupérer les informations d'un client\n",
    "    for i in range(0, length):\n",
    "        submitted = input('Quel est son ' + INFORMATIONS[i] + ' ? ')\n",
    "        customer[INFORMATIONS[i]] = submitted\n",
    "    return customer \n",
    "\n",
    "clients = getCustomers()\n",
    "\n",
    "# bloc pour afficher le solde total\n",
    "def total_balance(customers):\n",
    "    length = len(customers)\n",
    "    total = 0\n",
    "    for i in range(0, length):\n",
    "        total += int(customers[i]['solde'])\n",
    "    return total \n",
    "\n",
    "total = total_balance(clients)\n",
    "\n",
    "print(\"Le solde total des clients est : \" + str(total))\n"
   ]
  },
  {
   "cell_type": "markdown",
   "id": "876da6eb",
   "metadata": {},
   "source": [
    "\n",
    "Step 7\n",
    "Écrivez un bloc pour compter le nombre de clients féminins et masculins.\n"
   ]
  },
  {
   "cell_type": "code",
   "execution_count": null,
   "id": "7ff73a80",
   "metadata": {
    "collapsed": true
   },
   "outputs": [],
   "source": [
    "\n",
    "INFORMATIONS = ['prénom', 'nom', 'genre', 'solde']\n",
    "NB_CUSTOMERS = 13\n",
    "\n",
    "def getCustomers():\n",
    "    customers = []\n",
    "    # boucle pour récupérer les informations des clients\n",
    "    for i in range(0, NB_CUSTOMERS):\n",
    "        print('Client n° ' + str(i + 1) + ' : ')\n",
    "        customers.append(getCustomer())\n",
    "    return customers\n",
    "\n",
    "def getCustomer():\n",
    "    length = len(INFORMATIONS)\n",
    "    customer = {}\n",
    "    # boucle qui permet de récupérer les informations d'un client\n",
    "    for i in range(0, length):\n",
    "        submitted = input('Quel est son ' + INFORMATIONS[i] + ' ? ')\n",
    "        customer[INFORMATIONS[i]] = submitted\n",
    "    return customer \n",
    "\n",
    "clients = getCustomers()\n",
    "\n",
    "# bloc pour retourner le nombre de clients féminins et masculins\n",
    "def count_gender(customers):\n",
    "    length = len(customers)\n",
    "    genders = { 'female': 0, 'male': 0 }\n",
    "    for i in range(0, length):\n",
    "        if customers[i]['gender'] == 'F':\n",
    "            genders['female'] += 1\n",
    "        else:\n",
    "            genders['male'] += 1\n",
    "    return genders \n",
    "\n",
    "genders = count_gender(clients)\n",
    "\n",
    "print(genders)\n"
   ]
  },
  {
   "cell_type": "markdown",
   "id": "6c1f9f7a",
   "metadata": {},
   "source": [
    "\n",
    "Step 8\n",
    "Un nouveau client qui arrive KURDY Bassam avec un solde de 2000 euros, il faut l’ajouter dans la base\n",
    "de données avec ou sans méthode.\n"
   ]
  },
  {
   "cell_type": "code",
   "execution_count": null,
   "id": "7e971dd1",
   "metadata": {
    "collapsed": true
   },
   "outputs": [],
   "source": [
    "\n",
    "INFORMATIONS = ['prénom', 'nom', 'genre', 'solde']\n",
    "NB_CUSTOMERS = 13\n",
    "\n",
    "def getCustomers():\n",
    "    customers = []\n",
    "    # boucle pour récupérer les informations des clients\n",
    "    for i in range(0, NB_CUSTOMERS):\n",
    "        print('Client n° ' + str(i + 1) + ' : ')\n",
    "        customers.append(getCustomer())\n",
    "    return customers\n",
    "\n",
    "def getCustomer():\n",
    "    length = len(INFORMATIONS)\n",
    "    customer = {}\n",
    "    # boucle qui permet de récupérer les informations d'un client\n",
    "    for i in range(0, length):\n",
    "        submitted = input('Quel est son ' + INFORMATIONS[i] + ' ? ')\n",
    "        customer[INFORMATIONS[i]] = submitted\n",
    "    return customer \n",
    "\n",
    "clients = getCustomers()\n",
    "\n",
    "print(clients)\n",
    "print(len(clients))\n",
    "\n",
    "# méthode qui permet d'ajouter un client\n",
    "def addCustomer(customers):\n",
    "    customers.append(getCustomer())\n",
    "\n",
    "addCustomer(clients)\n",
    "\n",
    "print(clients)\n",
    "print(len(clients))\n"
   ]
  },
  {
   "cell_type": "markdown",
   "id": "0df243c4",
   "metadata": {},
   "source": [
    "\n",
    "Bonus : La récursivité\n",
    "\n",
    "Écrire une fonction qui calcule la factorielle de n.\n",
    "En mathématiques, la factorielle d’un entier naturel n est le produit des nombres entiers strictement\n",
    "positifs inférieurs ou égaux à n. La factorielle est notée !\n"
   ]
  },
  {
   "cell_type": "code",
   "execution_count": null,
   "id": "8b9510da",
   "metadata": {},
   "outputs": [],
   "source": [
    "\n",
    "def factorial(n):\n",
    "    return n if n == 0 or n == 1 else n * factorial(n - 1)\n",
    "\n",
    "f = factorial(6)\n",
    "\n",
    "print(f)\n"
   ]
  }
 ],
 "metadata": {
  "kernelspec": {
   "display_name": "Python 3 (ipykernel)",
   "language": "python",
   "name": "python3"
  },
  "language_info": {
   "codemirror_mode": {
    "name": "ipython",
    "version": 3
   },
   "file_extension": ".py",
   "mimetype": "text/x-python",
   "name": "python",
   "nbconvert_exporter": "python",
   "pygments_lexer": "ipython3",
   "version": "3.11.5"
  }
 },
 "nbformat": 4,
 "nbformat_minor": 5
}
