{
 "cells": [
  {
   "cell_type": "code",
   "execution_count": null,
   "id": "d30fd9d4-1c92-4365-ae22-125685bb5896",
   "metadata": {},
   "outputs": [],
   "source": [
    "\n",
    "!pip install --upgrade kaggle\n"
   ]
  },
  {
   "cell_type": "code",
   "execution_count": 20,
   "id": "65951ea9-e5ad-4ea3-bec0-f34b2ff92f44",
   "metadata": {
    "tags": []
   },
   "outputs": [
    {
     "name": "stdout",
     "output_type": "stream",
     "text": [
      "house-prices-advanced-regression-techniques.zip: Skipping, found more recently modified local copy (use --force to force download)\n"
     ]
    }
   ],
   "source": [
    "\n",
    "!kaggle competitions download -c house-prices-advanced-regression-techniques\n"
   ]
  },
  {
   "cell_type": "code",
   "execution_count": null,
   "id": "0402c4c8-86d4-4ab9-ad14-2b5f953dec7c",
   "metadata": {},
   "outputs": [],
   "source": [
    "\n",
    "zip_filename = 'house-prices-advanced-regression-techniques.zip'\n",
    "destination_dir = 'house_price'\n",
    "current_dir = os.path.abspath('.')\n",
    "destination_path = os.path.join(current_dir, destination_dir)\n",
    "\n",
    "with zipfile.ZipFile(zip_filename, 'r') as zip_ref:\n",
    "    zip_ref.extractall(destination_path)\n",
    "\n",
    "print('zip file has been successfully extracted to', destination_path)\n"
   ]
  },
  {
   "cell_type": "code",
   "execution_count": null,
   "id": "71f35fb6-4537-4879-8c38-478c4a5bace3",
   "metadata": {},
   "outputs": [],
   "source": [
    "\n",
    "import os\n",
    "import zipfile\n",
    "import numpy as np\n",
    "import pandas as pd\n",
    "\n",
    "from sklearn.model_selection import train_test_split \n",
    "from sklearn.preprocessing import StandardScaler, OneHotEncoder\n",
    "from sklearn.impute import SimpleImputer\n",
    "from sklearn.compose import ColumnTransformer\n",
    "from sklearn.pipeline import Pipeline\n",
    "from sklearn.linear_model import LinearRegression\n",
    "from sklearn.metrics import mean_squared_error\n"
   ]
  },
  {
   "cell_type": "code",
   "execution_count": null,
   "id": "f060057d-82d4-47ec-ad1f-67b4f98a64d1",
   "metadata": {},
   "outputs": [],
   "source": [
    "\n",
    "def display(to_display, message=''):\n",
    "    print()\n",
    "    if len(message) > 0:\n",
    "        print('  > ' + str(message))\n",
    "        print()\n",
    "    print(to_display)\n",
    "    print()\n",
    "    "
   ]
  },
  {
   "cell_type": "code",
   "execution_count": null,
   "id": "fa3108ad-2052-49ed-883a-79004a556764",
   "metadata": {
    "tags": []
   },
   "outputs": [],
   "source": [
    "\n",
    "data_dir = os.path.abspath('house_price')\n",
    "\n",
    "train_data = pd.read_csv(os.path.join(data_dir, 'train.csv'))\n",
    "test_data = pd.read_csv(os.path.join(data_dir, 'test.csv'))\n",
    "\n",
    "display(train_data.shape, 'Train data')\n",
    "display(test_data.shape, 'Test data')\n",
    "\n",
    "train_nulls = train_data.isnull().sum() \n",
    "test_nulls = test_data.isnull().sum() \n",
    "\n",
    "display(train_nulls, 'Train data null values')\n",
    "display(test_nulls, 'Test data null values')\n",
    "\n",
    "column_types = train_data.dtypes\n",
    "\n",
    "display(column_types, 'column_types')\n"
   ]
  },
  {
   "cell_type": "code",
   "execution_count": 40,
   "id": "2dae0cc6-3982-4d1d-b763-9fc52ea8362e",
   "metadata": {
    "tags": []
   },
   "outputs": [
    {
     "name": "stdout",
     "output_type": "stream",
     "text": [
      "Index(['Id', 'MSSubClass', 'LotFrontage', 'LotArea', 'OverallQual',\n",
      "       'OverallCond', 'YearBuilt', 'YearRemodAdd', 'MasVnrArea', 'BsmtFinSF1',\n",
      "       'BsmtFinSF2', 'BsmtUnfSF', 'TotalBsmtSF', '1stFlrSF', '2ndFlrSF',\n",
      "       'LowQualFinSF', 'GrLivArea', 'BsmtFullBath', 'BsmtHalfBath', 'FullBath',\n",
      "       'HalfBath', 'BedroomAbvGr', 'KitchenAbvGr', 'TotRmsAbvGrd',\n",
      "       'Fireplaces', 'GarageYrBlt', 'GarageCars', 'GarageArea', 'WoodDeckSF',\n",
      "       'OpenPorchSF', 'EnclosedPorch', '3SsnPorch', 'ScreenPorch', 'PoolArea',\n",
      "       'MiscVal', 'MoSold', 'YrSold'],\n",
      "      dtype='object')\n",
      "37\n",
      "Index(['MSZoning', 'Street', 'Alley', 'LotShape', 'LandContour', 'Utilities',\n",
      "       'LotConfig', 'LandSlope', 'Neighborhood', 'Condition1', 'Condition2',\n",
      "       'BldgType', 'HouseStyle', 'RoofStyle', 'RoofMatl', 'Exterior1st',\n",
      "       'Exterior2nd', 'MasVnrType', 'ExterQual', 'ExterCond', 'Foundation',\n",
      "       'BsmtQual', 'BsmtCond', 'BsmtExposure', 'BsmtFinType1', 'BsmtFinType2',\n",
      "       'Heating', 'HeatingQC', 'CentralAir', 'Electrical', 'KitchenQual',\n",
      "       'Functional', 'FireplaceQu', 'GarageType', 'GarageFinish', 'GarageQual',\n",
      "       'GarageCond', 'PavedDrive', 'PoolQC', 'Fence', 'MiscFeature',\n",
      "       'SaleType', 'SaleCondition'],\n",
      "      dtype='object')\n",
      "43\n"
     ]
    }
   ],
   "source": [
    "\n",
    "#### pipeline\n",
    "\n",
    "X = train_data.drop(['SalePrice'], axis=1)\n",
    "y = train_data['SalePrice']\n",
    "\n",
    "X_train, X_test, y_train, y_test = train_test_split(X, y, test_size=0.2, random_state=42)\n",
    "\n",
    "numeric_features = X_train.select_dtypes(include=['int64', 'float64']).columns\n",
    "categorical_features = X_train.select_dtypes(include=['object']).columns\n",
    "\n",
    "print(numeric_features)\n",
    "print(len(numeric_features))\n",
    "print(categorical_features)\n",
    "print(len(categorical_features))\n"
   ]
  },
  {
   "cell_type": "code",
   "execution_count": 43,
   "id": "e66f05a2-e1ef-48cc-a952-19d17aee804e",
   "metadata": {
    "tags": []
   },
   "outputs": [
    {
     "name": "stdout",
     "output_type": "stream",
     "text": [
      "\n",
      "rsme: 65337.88061026989\n",
      "\n"
     ]
    }
   ],
   "source": [
    "\n",
    "numeric_transformer = Pipeline(steps=[\n",
    "    ('imputer', SimpleImputer(strategy='mean')), \n",
    "    ('scaler', StandardScaler())\n",
    "]) \n",
    "\n",
    "categorical_transformer = Pipeline(steps=[\n",
    "    #('imputer', SimpleImputer(strategy='most_frequent')), \n",
    "    ('imputer', SimpleImputer(strategy='constant', fill_value='missing')),\n",
    "    ('onehot', OneHotEncoder(handle_unknown='ignore'))\n",
    "])\n",
    "\n",
    "preprocessor = ColumnTransformer(transformers=[\n",
    "    ('num', numeric_transformer, numeric_features), \n",
    "    ('cat', categorical_transformer, categorical_features)\n",
    "]) \n",
    "\n",
    "pipeline = Pipeline(steps=[\n",
    "    ('preprocessor', preprocessor),\n",
    "    ('model', LinearRegression())\n",
    "])\n",
    "\n",
    "pipeline.fit(X_train, y_train)\n",
    "\n",
    "y_pred = pipeline.predict(X_test)\n",
    "\n",
    "mse = mean_squared_error(y_test, y_pred)\n",
    "rmse = np.sqrt(mse)\n",
    "\n",
    "display('rsme: ' + str(rmse))\n"
   ]
  }
 ],
 "metadata": {
  "kernelspec": {
   "display_name": "Python 3 (ipykernel)",
   "language": "python",
   "name": "python3"
  },
  "language_info": {
   "codemirror_mode": {
    "name": "ipython",
    "version": 3
   },
   "file_extension": ".py",
   "mimetype": "text/x-python",
   "name": "python",
   "nbconvert_exporter": "python",
   "pygments_lexer": "ipython3",
   "version": "3.11.2"
  }
 },
 "nbformat": 4,
 "nbformat_minor": 5
}
