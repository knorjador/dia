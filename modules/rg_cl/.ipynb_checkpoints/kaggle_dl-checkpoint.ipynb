{
 "cells": [
  {
   "cell_type": "markdown",
   "id": "73e7405a",
   "metadata": {},
   "source": [
    "si le package kaggle n'est pas installé, il faut l'installer soit via votre env anaconda, soit directement en ligne de commande. "
   ]
  },
  {
   "cell_type": "code",
   "execution_count": 2,
   "id": "cce40ef3",
   "metadata": {},
   "outputs": [
    {
     "name": "stdout",
     "output_type": "stream",
     "text": [
      "Collecting kaggle\n",
      "  Downloading kaggle-1.5.12.tar.gz (58 kB)\n",
      "Requirement already satisfied: six>=1.10 in c:\\users\\noura\\anaconda3\\lib\\site-packages (from kaggle) (1.15.0)\n",
      "Requirement already satisfied: certifi in c:\\users\\noura\\anaconda3\\lib\\site-packages (from kaggle) (2020.12.5)\n",
      "Requirement already satisfied: python-dateutil in c:\\users\\noura\\anaconda3\\lib\\site-packages (from kaggle) (2.8.1)\n",
      "Requirement already satisfied: requests in c:\\users\\noura\\anaconda3\\lib\\site-packages (from kaggle) (2.25.1)\n",
      "Requirement already satisfied: tqdm in c:\\users\\noura\\anaconda3\\lib\\site-packages (from kaggle) (4.59.0)\n",
      "Collecting python-slugify\n",
      "  Downloading python_slugify-8.0.0-py2.py3-none-any.whl (9.5 kB)\n",
      "Requirement already satisfied: urllib3 in c:\\users\\noura\\anaconda3\\lib\\site-packages (from kaggle) (1.26.4)\n",
      "Collecting text-unidecode>=1.3\n",
      "  Downloading text_unidecode-1.3-py2.py3-none-any.whl (78 kB)\n",
      "Requirement already satisfied: idna<3,>=2.5 in c:\\users\\noura\\anaconda3\\lib\\site-packages (from requests->kaggle) (2.10)\n",
      "Requirement already satisfied: chardet<5,>=3.0.2 in c:\\users\\noura\\anaconda3\\lib\\site-packages (from requests->kaggle) (4.0.0)\n",
      "Building wheels for collected packages: kaggle\n",
      "  Building wheel for kaggle (setup.py): started\n",
      "  Building wheel for kaggle (setup.py): finished with status 'done'\n",
      "  Created wheel for kaggle: filename=kaggle-1.5.12-py3-none-any.whl size=73053 sha256=96468c8baf022db428059763dcc63be765ac0d14c54520ebb07ef16501a50f98\n",
      "  Stored in directory: c:\\users\\noura\\appdata\\local\\pip\\cache\\wheels\\29\\da\\11\\144cc25aebdaeb4931b231e25fd34b394e6a5725cbb2f50106\n",
      "Successfully built kaggle\n",
      "Installing collected packages: text-unidecode, python-slugify, kaggle\n",
      "Successfully installed kaggle-1.5.12 python-slugify-8.0.0 text-unidecode-1.3\n"
     ]
    }
   ],
   "source": [
    "! pip install kaggle"
   ]
  },
  {
   "cell_type": "markdown",
   "id": "af537bfb",
   "metadata": {},
   "source": [
    "télécharger le dataset directement via kaggle. \n",
    "Pour cela, il faut télécharger le fichier json avec le token qui est dans votre compte kaggle \n",
    "\n",
    "Il faut préciser le nom du dataset kaggle \n",
    "exemple d'utilisation : \n",
    "! kaggle competitions download -c kaggle_dataset_name"
   ]
  },
  {
   "cell_type": "code",
   "execution_count": 5,
   "id": "41e14197",
   "metadata": {},
   "outputs": [
    {
     "name": "stdout",
     "output_type": "stream",
     "text": [
      "Downloading house-prices-advanced-regression-techniques.zip to C:\\Users\\noura\\Downloads\n",
      "\n"
     ]
    },
    {
     "name": "stderr",
     "output_type": "stream",
     "text": [
      "\n",
      "  0%|          | 0.00/199k [00:00<?, ?B/s]\n",
      "100%|##########| 199k/199k [00:00<00:00, 1.24MB/s]\n",
      "100%|##########| 199k/199k [00:00<00:00, 1.24MB/s]\n"
     ]
    }
   ],
   "source": [
    "! kaggle competitions download -c house-prices-advanced-regression-techniques"
   ]
  },
  {
   "cell_type": "markdown",
   "id": "8b1156ab",
   "metadata": {},
   "source": [
    "unzipé le dossier "
   ]
  },
  {
   "cell_type": "code",
   "execution_count": 6,
   "id": "3d128c8f",
   "metadata": {},
   "outputs": [
    {
     "name": "stdout",
     "output_type": "stream",
     "text": [
      "Le fichier zip a été extrait avec succès dans le répertoire ./\n"
     ]
    }
   ],
   "source": [
    "import zipfile\n",
    "\n",
    "# Nom du fichier zip à extraire\n",
    "zip_filename = 'house-prices-advanced-regression-techniques.zip'\n",
    "\n",
    "# Nom du répertoire de destination\n",
    "destination_dir = './'\n",
    "\n",
    "# Ouvrir le fichier zip\n",
    "with zipfile.ZipFile(zip_filename, 'r') as zip_ref:\n",
    "    # Extraire tous les fichiers dans le répertoire de destination\n",
    "    zip_ref.extractall(destination_dir)\n",
    "\n",
    "print('Le fichier zip a été extrait avec succès dans le répertoire', destination_dir)\n"
   ]
  },
  {
   "cell_type": "code",
   "execution_count": 7,
   "id": "ef1189a1",
   "metadata": {},
   "outputs": [
    {
     "name": "stdout",
     "output_type": "stream",
     "text": [
      "Le fichier zip a été extrait avec succès dans le répertoire C:\\Users\\noura\\Downloads\\house-price\n"
     ]
    }
   ],
   "source": [
    "import zipfile\n",
    "import os\n",
    "\n",
    "# Nom du fichier zip à extraire\n",
    "zip_filename = 'house-prices-advanced-regression-techniques.zip'\n",
    "\n",
    "# Nom du répertoire de destination\n",
    "destination_dir = 'house-price'\n",
    "\n",
    "# Chemin d'accès absolu du répertoire courant\n",
    "current_dir = os.path.abspath('.')\n",
    "\n",
    "# Chemin d'accès absolu du répertoire de destination\n",
    "destination_path = os.path.join(current_dir, destination_dir)\n",
    "\n",
    "# Ouvrir le fichier zip\n",
    "with zipfile.ZipFile(zip_filename, 'r') as zip_ref:\n",
    "    # Extraire tous les fichiers dans le répertoire de destination\n",
    "    zip_ref.extractall(destination_path)\n",
    "\n",
    "print('Le fichier zip a été extrait avec succès dans le répertoire', destination_path)\n"
   ]
  },
  {
   "cell_type": "code",
   "execution_count": 8,
   "id": "1f976d71",
   "metadata": {},
   "outputs": [
    {
     "name": "stdout",
     "output_type": "stream",
     "text": [
      "Données d'entraînement : (1460, 81)\n",
      "Données de test : (1459, 80)\n"
     ]
    }
   ],
   "source": [
    "import pandas as pd\n",
    "import os\n",
    "\n",
    "# Chemin d'accès absolu du répertoire de données\n",
    "data_dir = os.path.abspath('house-price')\n",
    "\n",
    "# Charger les données d'entraînement et de test\n",
    "train_data = pd.read_csv(os.path.join(data_dir, 'train.csv'))\n",
    "test_data = pd.read_csv(os.path.join(data_dir, 'test.csv'))\n"
   ]
  },
  {
   "cell_type": "code",
   "execution_count": 9,
   "id": "133c5fc7",
   "metadata": {},
   "outputs": [],
   "source": [
    "# Séparer les données en features et target\n",
    "X_train = train_data.drop('SalePrice', axis=1)\n",
    "y_train = train_data['SalePrice']"
   ]
  },
  {
   "cell_type": "code",
   "execution_count": null,
   "id": "a2a0a139",
   "metadata": {},
   "outputs": [],
   "source": []
  }
 ],
 "metadata": {
  "kernelspec": {
   "display_name": "Python 3 (ipykernel)",
   "language": "python",
   "name": "python3"
  },
  "language_info": {
   "codemirror_mode": {
    "name": "ipython",
    "version": 3
   },
   "file_extension": ".py",
   "mimetype": "text/x-python",
   "name": "python",
   "nbconvert_exporter": "python",
   "pygments_lexer": "ipython3",
   "version": "3.11.7"
  }
 },
 "nbformat": 4,
 "nbformat_minor": 5
}
