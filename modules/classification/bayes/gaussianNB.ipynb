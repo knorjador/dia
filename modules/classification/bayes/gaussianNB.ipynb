{
 "cells": [
  {
   "cell_type": "code",
   "execution_count": null,
   "id": "a0cf9dc4-22c0-46e9-8c4e-e14c40da75a0",
   "metadata": {},
   "outputs": [],
   "source": [
    "\n",
    "import pandas as pd\n",
    "from sklearn.model_selection import train_test_split\n",
    "from sklearn.naive_bayes import GaussianNB\n",
    "from sklearn.metrics import accuracy_score\n",
    "\n",
    "#### ---- ---- Exercise 1 ---- ---- ####\n",
    "\n",
    "df = pd.read_excel('./data_gaussian.xlsx', engine='openpyxl')\n",
    "\n",
    "#print(df)\n",
    "\n",
    "# setup features && target\n",
    "X = df[['Taille', 'Poids', 'Pointure']]\n",
    "y = df['Sexe']\n",
    "\n",
    "# split dataset (train/test)\n",
    "X_train, X_test, y_train, y_test = train_test_split(X, y, test_size = 0.20)\n",
    "\n",
    "# load model\n",
    "model_Gaussian = GaussianNB()\n",
    "\n",
    "# training\n",
    "model_Gaussian.fit(X_train, y_train)\n",
    "\n",
    "prediction = model_Gaussian.predict(X_test)\n",
    "\n",
    "print(prediction)\n",
    "\n",
    "# model evaluation\n",
    "precision = accuracy_score(y_test, prediction) * 100\n",
    "\n",
    "print(precision)\n"
   ]
  },
  {
   "cell_type": "code",
   "execution_count": null,
   "id": "9a61735a-09a0-429f-908c-a64f7d68397c",
   "metadata": {
    "tags": []
   },
   "outputs": [],
   "source": [
    "\n",
    "#### ---- ---- Exercise 2 ---- ---- ####\n",
    "\n",
    "from sklearn.datasets import load_breast_cancer\n",
    "\n",
    "df = load_breast_cancer()\n",
    "\n",
    "# setup features && target\n",
    "X = df['data']\n",
    "y = df['target']\n",
    "\n",
    "# split dataset (train/test)\n",
    "X_train, X_test, y_train, y_test = train_test_split(X, y, test_size = 0.40, random_state = 42)\n",
    "\n",
    "# load model\n",
    "model_Gaussian = GaussianNB()\n",
    "\n",
    "# training\n",
    "model_Gaussian.fit(X_train, y_train)\n",
    "\n",
    "prediction = model_Gaussian.predict(X_test)\n",
    "\n",
    "print(prediction)\n",
    "\n",
    "# model evaluation\n",
    "precision = accuracy_score(y_test, prediction) * 100\n",
    "\n",
    "print(precision)\n"
   ]
  },
  {
   "cell_type": "code",
   "execution_count": null,
   "id": "1abdea87-b757-4b31-b535-00f107d043f9",
   "metadata": {},
   "outputs": [],
   "source": []
  }
 ],
 "metadata": {
  "kernelspec": {
   "display_name": "Python 3 (ipykernel)",
   "language": "python",
   "name": "python3"
  },
  "language_info": {
   "codemirror_mode": {
    "name": "ipython",
    "version": 3
   },
   "file_extension": ".py",
   "mimetype": "text/x-python",
   "name": "python",
   "nbconvert_exporter": "python",
   "pygments_lexer": "ipython3",
   "version": "3.11.5"
  }
 },
 "nbformat": 4,
 "nbformat_minor": 5
}
