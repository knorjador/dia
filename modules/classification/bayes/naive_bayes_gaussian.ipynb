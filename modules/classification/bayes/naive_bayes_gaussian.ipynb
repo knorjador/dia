{
 "cells": [
  {
   "cell_type": "code",
   "execution_count": 6,
   "id": "86e0dde7-b56e-41b7-b185-faa93bd945f6",
   "metadata": {},
   "outputs": [],
   "source": [
    "\n",
    "import pandas as pd\n",
    "\n",
    "from sklearn.datasets import load_breast_cancer\n",
    "from sklearn.model_selection import train_test_split\n",
    "from sklearn.naive_bayes import GaussianNB\n",
    "from sklearn.metrics import accuracy_score\n"
   ]
  },
  {
   "cell_type": "code",
   "execution_count": 4,
   "id": "0706524f-335d-4c05-a4d5-548054657acd",
   "metadata": {},
   "outputs": [],
   "source": [
    "\n",
    "def display(to_display, message=''):\n",
    "    print()\n",
    "    if len(message) > 0:\n",
    "        print('  > ' + str(message))\n",
    "        print()\n",
    "    print(to_display)\n",
    "    print()\n",
    "    "
   ]
  },
  {
   "cell_type": "code",
   "execution_count": 5,
   "id": "a0cf9dc4-22c0-46e9-8c4e-e14c40da75a0",
   "metadata": {},
   "outputs": [
    {
     "name": "stdout",
     "output_type": "stream",
     "text": [
      "\n",
      "  > prediction\n",
      "\n",
      "['féminin' 'masculin']\n",
      "\n",
      "\n",
      "  > precision\n",
      "\n",
      "100.0\n",
      "\n"
     ]
    }
   ],
   "source": [
    "\n",
    "#### ---- ---- Exercise 1 ---- ---- ####\n",
    "\n",
    "df = pd.read_excel('./data_gaussian.xlsx', engine='openpyxl')\n",
    "\n",
    "# setup features && target\n",
    "X = df[['Taille', 'Poids', 'Pointure']]\n",
    "y = df['Sexe']\n",
    "\n",
    "# split train test\n",
    "X_train, X_test, y_train, y_test = train_test_split(X, y, test_size=0.2)\n",
    "\n",
    "# load model\n",
    "model_Gaussian = GaussianNB()\n",
    "\n",
    "# train\n",
    "model_Gaussian.fit(X_train, y_train)\n",
    "\n",
    "# predict\n",
    "prediction = model_Gaussian.predict(X_test)\n",
    "\n",
    "display(prediction, 'prediction')\n",
    "\n",
    "# model evaluation\n",
    "precision = accuracy_score(y_test, prediction) * 100\n",
    "\n",
    "display(precision, 'precision')\n"
   ]
  },
  {
   "cell_type": "code",
   "execution_count": 7,
   "id": "9a61735a-09a0-429f-908c-a64f7d68397c",
   "metadata": {
    "tags": []
   },
   "outputs": [
    {
     "name": "stdout",
     "output_type": "stream",
     "text": [
      "\n",
      "  > prediction\n",
      "\n",
      "[1 0 0 1 1 0 0 0 1 1 1 0 1 0 1 0 1 1 1 0 1 1 0 1 1 1 1 1 1 0 1 1 1 1 1 1 0\n",
      " 1 0 1 1 0 1 1 1 1 1 1 1 1 0 0 1 1 1 1 1 0 0 1 1 0 0 1 1 1 0 0 1 1 0 0 1 0\n",
      " 1 1 1 1 1 1 0 1 1 0 0 0 0 0 1 1 1 1 1 1 1 1 0 0 1 0 0 1 0 0 1 1 1 0 1 1 0\n",
      " 1 1 0 0 0 1 1 1 0 0 1 1 0 1 0 0 1 1 0 0 0 1 1 1 0 1 1 0 0 1 0 1 1 0 1 0 0\n",
      " 1 1 1 1 1 1 1 0 0 1 1 1 1 1 1 1 1 1 1 1 1 0 1 1 1 0 1 1 0 1 1 1 1 1 1 0 0\n",
      " 0 1 1 0 1 0 1 1 1 1 0 1 1 0 1 1 1 0 1 0 0 1 1 1 1 1 1 1 1 0 1 1 1 1 1 0 1\n",
      " 0 0 1 1 0 1]\n",
      "\n",
      "\n",
      "  > precision\n",
      "\n",
      "95.17543859649122\n",
      "\n"
     ]
    }
   ],
   "source": [
    "\n",
    "#### ---- ---- Exercise 2 ---- ---- ####\n",
    "\n",
    "df = load_breast_cancer()\n",
    "\n",
    "# setup features && target\n",
    "X = df['data']\n",
    "y = df['target']\n",
    "\n",
    "# split dataset (train/test)\n",
    "X_train, X_test, y_train, y_test = train_test_split(X, y, test_size = 0.40, random_state = 42)\n",
    "\n",
    "# load model\n",
    "model_Gaussian = GaussianNB()\n",
    "\n",
    "# train\n",
    "model_Gaussian.fit(X_train, y_train)\n",
    "\n",
    "# predict\n",
    "prediction = model_Gaussian.predict(X_test)\n",
    "\n",
    "display(prediction, 'prediction')\n",
    "\n",
    "# model evaluation\n",
    "precision = accuracy_score(y_test, prediction) * 100\n",
    "\n",
    "display(precision, 'precision')\n"
   ]
  }
 ],
 "metadata": {
  "kernelspec": {
   "display_name": "Python 3 (ipykernel)",
   "language": "python",
   "name": "python3"
  },
  "language_info": {
   "codemirror_mode": {
    "name": "ipython",
    "version": 3
   },
   "file_extension": ".py",
   "mimetype": "text/x-python",
   "name": "python",
   "nbconvert_exporter": "python",
   "pygments_lexer": "ipython3",
   "version": "3.11.2"
  }
 },
 "nbformat": 4,
 "nbformat_minor": 5
}
