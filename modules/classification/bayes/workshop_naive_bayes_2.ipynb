{
 "cells": [
  {
   "cell_type": "code",
   "execution_count": 1,
   "id": "219b9113-3388-46b4-95d0-53ca5f49301d",
   "metadata": {},
   "outputs": [],
   "source": [
    "\n",
    "import os\n",
    "import io\n",
    "import pandas as pd\n",
    "\n",
    "from sklearn.naive_bayes import MultinomialNB\n",
    "from sklearn.feature_extraction.text import CountVectorizer\n"
   ]
  },
  {
   "cell_type": "code",
   "execution_count": null,
   "id": "357fd8b3-29ef-456b-b1b6-4542c4b4a01e",
   "metadata": {},
   "outputs": [],
   "source": [
    "\n",
    "#### ---- ---- MAIN VARIABLES ---- ---- ####\n",
    "\n",
    "BEGIN_PATH = '/path/to/begin'\n",
    "FOLDER_PATH = '/path/to/emails/'\n",
    "PATH_TO_HAM_DIR = BEGIN_PATH + FOLDER_PATH + 'ham'\n",
    "PATH_TO_SPAM_DIR = BEGIN_PATH + FOLDER_PATH + 'spam'\n",
    "HAM_TYPE = \"HAM\"\n",
    "SPAM_TYPE = \"SPAM\"\n",
    "\n",
    "# represent emails\n",
    "X = [] \n",
    "# labels for training set\n",
    "Y = [] \n"
   ]
  },
  {
   "cell_type": "code",
   "execution_count": null,
   "id": "835987a7-8bf4-4ed6-bdb9-22077dfe4045",
   "metadata": {},
   "outputs": [],
   "source": [
    "\n",
    "#### ---- ---- FUNCTIONS ---- ---- ####\n",
    "\n",
    "def readFilesFromDirectory(path, classification):\n",
    "    os.chdir(path)\n",
    "    files_name = os.listdir(path)\n",
    "    for current_file in files_name:\n",
    "        message = extract_mail_body(current_file)\n",
    "        X.append(message)\n",
    "        Y.append(classification)\n",
    "        \n",
    "def extract_mail_body(file_name_str):\n",
    "    inBody = False\n",
    "    lines = []\n",
    "    file_descriptor = io.open(file_name_str,'r', encoding='latin1')\n",
    "    for line in file_descriptor:\n",
    "        if inBody:\n",
    "            lines.append(line)\n",
    "        elif line == '\\n':\n",
    "            inBody = True\n",
    "        message = '\\n'.join(lines)\n",
    "    file_descriptor.close()\n",
    "    return message\n"
   ]
  },
  {
   "cell_type": "code",
   "execution_count": 6,
   "id": "24edecc1-a4a7-4b0a-92e1-f739ae6d1d51",
   "metadata": {},
   "outputs": [
    {
     "name": "stdout",
     "output_type": "stream",
     "text": [
      "['SPAM' 'HAM']\n"
     ]
    }
   ],
   "source": [
    "\n",
    "#### ---- ---- SCRIPT ---- ---- ####\n",
    "\n",
    "readFilesFromDirectory(PATH_TO_HAM_DIR, HAM_TYPE)\n",
    "readFilesFromDirectory(PATH_TO_SPAM_DIR, SPAM_TYPE)\n",
    "\n",
    "training_set = pd.DataFrame({'X': X, 'Y': Y})\n",
    "\n",
    "vectorizer = CountVectorizer()\n",
    "counts = vectorizer.fit_transform(training_set['X'].values)\n",
    "\n",
    "classifier = MultinomialNB()\n",
    "targets = training_set['Y'].values\n",
    "classifier.fit(counts, targets)\n",
    "\n",
    "examples = ['Free iPhone now!!!', \"Hi Bob, how about a game of golf tomorrow?\"]\n",
    "example_counts = vectorizer.transform(examples)\n",
    "\n",
    "predictions = classifier.predict(example_counts)\n",
    "\n",
    "print(predictions)\n"
   ]
  }
 ],
 "metadata": {
  "kernelspec": {
   "display_name": "Python 3 (ipykernel)",
   "language": "python",
   "name": "python3"
  },
  "language_info": {
   "codemirror_mode": {
    "name": "ipython",
    "version": 3
   },
   "file_extension": ".py",
   "mimetype": "text/x-python",
   "name": "python",
   "nbconvert_exporter": "python",
   "pygments_lexer": "ipython3",
   "version": "3.11.2"
  }
 },
 "nbformat": 4,
 "nbformat_minor": 5
}
