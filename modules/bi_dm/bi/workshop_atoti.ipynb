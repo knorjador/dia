{
 "cells": [
  {
   "cell_type": "code",
   "execution_count": null,
   "id": "500b51c1-23ac-4a62-b7f6-66fa4ce49e99",
   "metadata": {},
   "outputs": [],
   "source": [
    "\n",
    "!pip install 'atoti[jupyterlab]'\n"
   ]
  },
  {
   "cell_type": "code",
   "execution_count": 10,
   "id": "f8c6aad7-66c3-4f02-aead-a9acd3bc2a7f",
   "metadata": {},
   "outputs": [
    {
     "name": "stdout",
     "output_type": "stream",
     "text": [
      "env: ATOTI_HIDE_EULA_MESSAGE=True\n"
     ]
    }
   ],
   "source": [
    "\n",
    "%env ATOTI_HIDE_EULA_MESSAGE = True\n",
    "\n",
    "def display(to_display, message=''):\n",
    "    print()\n",
    "    if len(message) > 0:\n",
    "        print('  > ' + str(message))\n",
    "        print()\n",
    "    print(to_display)\n",
    "    print()\n"
   ]
  },
  {
   "cell_type": "code",
   "execution_count": 12,
   "id": "cf5460bb-58ee-447b-aafa-5ae627284883",
   "metadata": {},
   "outputs": [
    {
     "name": "stdout",
     "output_type": "stream",
     "text": [
      "\n",
      "       QUANTITY  PRICEEACH  ORDERLINENUMBER    SALES       ORDERDATE   STATUS  \\\n",
      "ID                                                                              \n",
      "10277        28      100.0                1  3127.88   8/4/2004 0:00  Shipped   \n",
      "10102        41      50.14                1  2055.74  1/10/2003 0:00  Shipped   \n",
      "10256        29      51.75                1  1500.75   6/8/2004 0:00  Shipped   \n",
      "10216        43      100.0                1  5759.42   2/2/2004 0:00  Shipped   \n",
      "10125        34      100.0                2  6483.46  5/21/2003 0:00  Shipped   \n",
      "\n",
      "       QTR_ID  MONTH_ID  YEAR_ID       PRODUCTLINE  ...  \\\n",
      "ID                                                  ...   \n",
      "10277       3         8     2004      Classic Cars  ...   \n",
      "10102       1         1     2003      Vintage Cars  ...   \n",
      "10256       2         6     2004      Vintage Cars  ...   \n",
      "10216       1         2     2004  Trucks and Buses  ...   \n",
      "10125       2         5     2003      Vintage Cars  ...   \n",
      "\n",
      "                               ADDRESSLINE1 ADDRESSLINE2        CITY  \\\n",
      "ID                                                                     \n",
      "10277  Bronz Sok., Bronz Apt. 3/6 Tesvikiye          N/A   Singapore   \n",
      "10102                     2678 Kingston Rd.    Suite 101         NYC   \n",
      "10256                          Vinb'ltet 34          N/A   Kobenhavn   \n",
      "10216                67, avenue de l'Europe          N/A  Versailles   \n",
      "10125                     636 St Kilda Road      Level 3   Melbourne   \n",
      "\n",
      "          STATE POSTALCODE    COUNTRY TERRITORY CONTACTLASTNAME  \\\n",
      "ID                                                                \n",
      "10277       N/A      79903  Singapore     Japan       Natividad   \n",
      "10102        NY      10022        USA        NA           Frick   \n",
      "10256       N/A       1734    Denmark      EMEA        Petersen   \n",
      "10216       N/A      78000     France      EMEA          Tonini   \n",
      "10125  Victoria       3004  Australia      APAC        Ferguson   \n",
      "\n",
      "      CONTACTFIRSTNAME DEALSIZE  \n",
      "ID                               \n",
      "10277             Eric   Medium  \n",
      "10102          Michael    Small  \n",
      "10256            Jytte    Small  \n",
      "10216           Daniel   Medium  \n",
      "10125            Peter   Medium  \n",
      "\n",
      "[5 rows x 24 columns]\n",
      "\n",
      "\n",
      "  > sum_quantity\n",
      "\n",
      "  QUANTITY.SUM\n",
      "0       11,068\n",
      "\n",
      "\n",
      "  > sum_quantity_by_city\n",
      "\n",
      "             QUANTITY.SUM\n",
      "CITY                     \n",
      "Aaarhus                68\n",
      "Allentown             151\n",
      "Barcelona             118\n",
      "Bergamo                95\n",
      "Bergen                114\n",
      "...                   ...\n",
      "Toulouse              120\n",
      "Tsawassen              74\n",
      "Vancouver              70\n",
      "Versailles             79\n",
      "White Plains           96\n",
      "\n",
      "[73 rows x 1 columns]\n",
      "\n"
     ]
    }
   ],
   "source": [
    "\n",
    "import atoti as tt\n",
    "\n",
    "session = tt.Session(name='Sales exploration')\n",
    "sales = session.read_csv('./sales.csv', keys=['ID'])\n",
    "\n",
    "display(sales.head())\n",
    "\n",
    "cube = session.create_cube(sales)\n",
    "levels = cube.levels\n",
    "measures = cube.measures\n",
    "\n",
    "sum_quantity = cube.query(measures['QUANTITY.SUM'])\n",
    "sum_quantity_by_city = cube.query(measures['QUANTITY.SUM'], levels=[levels['CITY']])\n",
    "\n",
    "display(sum_quantity, 'sum_quantity')\n",
    "display(sum_quantity_by_city, 'sum_quantity_by_city')\n",
    "\n",
    "# display localhost link\n",
    "# session.widget\n",
    "# session.link\n",
    "\n",
    "session.close()\n"
   ]
  }
 ],
 "metadata": {
  "kernelspec": {
   "display_name": "Python 3 (ipykernel)",
   "language": "python",
   "name": "python3"
  },
  "language_info": {
   "codemirror_mode": {
    "name": "ipython",
    "version": 3
   },
   "file_extension": ".py",
   "mimetype": "text/x-python",
   "name": "python",
   "nbconvert_exporter": "python",
   "pygments_lexer": "ipython3",
   "version": "3.11.2"
  }
 },
 "nbformat": 4,
 "nbformat_minor": 5
}
