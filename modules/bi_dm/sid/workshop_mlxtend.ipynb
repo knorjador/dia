{
 "cells": [
  {
   "cell_type": "code",
   "execution_count": 17,
   "id": "27ab4499-dbbd-43e3-9448-b1595f8e7c62",
   "metadata": {
    "tags": []
   },
   "outputs": [],
   "source": [
    "\n",
    "import warnings\n",
    "import pandas as pd\n",
    "import matplotlib.pyplot as plt\n",
    "\n",
    "from mlxtend.frequent_patterns import apriori\n",
    "from mlxtend.frequent_patterns import association_rules\n",
    "\n",
    "warnings.filterwarnings('ignore')\n",
    "pd.options.display.max_colwidth=100\n",
    "%matplotlib inline\n"
   ]
  },
  {
   "cell_type": "code",
   "execution_count": 18,
   "id": "7397af0e-66ed-42da-86d5-64586612d706",
   "metadata": {},
   "outputs": [],
   "source": [
    "\n",
    "def display(to_display, message=''):\n",
    "    print()\n",
    "    if len(message) > 0:\n",
    "        print('  > ' + str(message))\n",
    "        print()\n",
    "    print(to_display)\n",
    "    print()\n",
    "    "
   ]
  },
  {
   "cell_type": "code",
   "execution_count": 19,
   "id": "bec2c083-8d23-4b5f-8576-d49bd6f49d95",
   "metadata": {
    "tags": []
   },
   "outputs": [
    {
     "name": "stdout",
     "output_type": "stream",
     "text": [
      "\n",
      "  > frequent_itemsets\n",
      "\n",
      "    support                 itemsets\n",
      "0  0.666667                  (Onion)\n",
      "1  0.833333                 (Potato)\n",
      "2  0.666667                 (Burger)\n",
      "3  0.666667                   (Milk)\n",
      "4  0.666667          (Potato, Onion)\n",
      "5  0.500000          (Burger, Onion)\n",
      "6  0.666667         (Potato, Burger)\n",
      "7  0.500000           (Milk, Potato)\n",
      "8  0.500000  (Potato, Burger, Onion)\n",
      "\n",
      "\n",
      "  > rules\n",
      "\n",
      "         antecedents       consequents  antecedent support  \\\n",
      "0           (Potato)           (Onion)            0.833333   \n",
      "1            (Onion)          (Potato)            0.666667   \n",
      "2           (Burger)           (Onion)            0.666667   \n",
      "3            (Onion)          (Burger)            0.666667   \n",
      "4           (Potato)          (Burger)            0.833333   \n",
      "5           (Burger)          (Potato)            0.666667   \n",
      "6   (Potato, Burger)           (Onion)            0.666667   \n",
      "7    (Potato, Onion)          (Burger)            0.666667   \n",
      "8    (Burger, Onion)          (Potato)            0.500000   \n",
      "9           (Potato)   (Burger, Onion)            0.833333   \n",
      "10          (Burger)   (Potato, Onion)            0.666667   \n",
      "11           (Onion)  (Potato, Burger)            0.666667   \n",
      "\n",
      "    consequent support   support  confidence   lift  leverage  conviction  \\\n",
      "0             0.666667  0.666667        0.80  1.200  0.111111    1.666667   \n",
      "1             0.833333  0.666667        1.00  1.200  0.111111         inf   \n",
      "2             0.666667  0.500000        0.75  1.125  0.055556    1.333333   \n",
      "3             0.666667  0.500000        0.75  1.125  0.055556    1.333333   \n",
      "4             0.666667  0.666667        0.80  1.200  0.111111    1.666667   \n",
      "5             0.833333  0.666667        1.00  1.200  0.111111         inf   \n",
      "6             0.666667  0.500000        0.75  1.125  0.055556    1.333333   \n",
      "7             0.666667  0.500000        0.75  1.125  0.055556    1.333333   \n",
      "8             0.833333  0.500000        1.00  1.200  0.083333         inf   \n",
      "9             0.500000  0.500000        0.60  1.200  0.083333    1.250000   \n",
      "10            0.666667  0.500000        0.75  1.125  0.055556    1.333333   \n",
      "11            0.666667  0.500000        0.75  1.125  0.055556    1.333333   \n",
      "\n",
      "    zhangs_metric  \n",
      "0        1.000000  \n",
      "1        0.500000  \n",
      "2        0.333333  \n",
      "3        0.333333  \n",
      "4        1.000000  \n",
      "5        0.500000  \n",
      "6        0.333333  \n",
      "7        0.333333  \n",
      "8        0.333333  \n",
      "9        1.000000  \n",
      "10       0.333333  \n",
      "11       0.333333  \n",
      "\n"
     ]
    }
   ],
   "source": [
    "\n",
    "# example 1 \n",
    "data = {\n",
    "    \n",
    "    'ID':[1,2,3,4,5,6],\n",
    "    'Onion':[1,0,0,1,1,1],\n",
    "    'Potato':[1,1,0,1,1,1],\n",
    "    'Burger':[1,1,0,0,1,1],\n",
    "    'Milk':[0,1,1,1,0,1],\n",
    "    'Beer':[0,0,1,0,1,0]\n",
    "\n",
    "}\n",
    "\n",
    "df = pd.DataFrame(data)\n",
    "\n",
    "frequent_itemsets = apriori(\n",
    "    \n",
    "    df[['Onion', 'Potato', 'Burger', 'Milk', 'Beer' ]], \n",
    "    min_support=0.50, \n",
    "    use_colnames=True\n",
    "\n",
    ")\n",
    "\n",
    "display(frequent_itemsets, 'frequent_itemsets')\n",
    "\n",
    "rules = association_rules(frequent_itemsets, metric='lift', min_threshold=1)\n",
    "\n",
    "display(rules, 'rules')\n"
   ]
  },
  {
   "cell_type": "code",
   "execution_count": 20,
   "id": "15d47daf-0ae7-4c07-a2ed-3b127af08801",
   "metadata": {
    "tags": []
   },
   "outputs": [
    {
     "name": "stdout",
     "output_type": "stream",
     "text": [
      "\n",
      "  > frequent_itemsets\n",
      "\n",
      "    support        itemsets\n",
      "0  0.666667          (Beer)\n",
      "1  0.666667         (Chips)\n",
      "2  0.500000        (Diaper)\n",
      "3  0.666667          (Milk)\n",
      "4  0.500000   (Beer, Chips)\n",
      "5  0.500000  (Beer, Diaper)\n",
      "\n",
      "\n",
      "  > rules\n",
      "\n",
      "  antecedents consequents  antecedent support  consequent support  support  \\\n",
      "0      (Beer)     (Chips)            0.666667            0.666667      0.5   \n",
      "1     (Chips)      (Beer)            0.666667            0.666667      0.5   \n",
      "2      (Beer)    (Diaper)            0.666667            0.500000      0.5   \n",
      "3    (Diaper)      (Beer)            0.500000            0.666667      0.5   \n",
      "\n",
      "   confidence   lift  leverage  conviction  zhangs_metric  \n",
      "0        0.75  1.125  0.055556    1.333333       0.333333  \n",
      "1        0.75  1.125  0.055556    1.333333       0.333333  \n",
      "2        0.75  1.500  0.166667    2.000000       1.000000  \n",
      "3        1.00  1.500  0.166667         inf       0.666667  \n",
      "\n"
     ]
    }
   ],
   "source": [
    "\n",
    "# example 2\n",
    "retail_shopping_basket = {\n",
    "    \n",
    "    'ID':[1,2,3,4,5,6],\n",
    "    'Basket':[\n",
    "        \n",
    "        ['Beer', 'Diaper', 'Pretzels', 'Chips', 'Aspirin'],\n",
    "        ['Diaper', 'Beer', 'Chips', 'Lotion', 'Juice', 'BabyFood', 'Milk'],\n",
    "        ['Soda', 'Chips', 'Milk'],\n",
    "        ['Soup', 'Beer', 'Diaper', 'Milk', 'IceCream'],\n",
    "        ['Soda', 'Coffee', 'Milk', 'Bread'],\n",
    "        ['Beer', 'Chips']\n",
    "                                \n",
    "    ]\n",
    "                         \n",
    "}\n",
    "\n",
    "retail = pd.DataFrame(retail_shopping_basket)\n",
    "retail = retail.join(retail.Basket.str.join(',').str.get_dummies(','))\n",
    "retail = retail.drop('Basket', axis=1)\n",
    "\n",
    "frequent_itemsets = apriori(retail.drop('ID', axis=1), use_colnames=True)\n",
    "\n",
    "display(frequent_itemsets, 'frequent_itemsets')\n",
    "\n",
    "rules = association_rules(frequent_itemsets, metric='lift')\n",
    "\n",
    "display(rules, 'rules')\n"
   ]
  },
  {
   "cell_type": "code",
   "execution_count": 26,
   "id": "76ed7f61-269d-4d24-877e-5ba76e42916c",
   "metadata": {
    "tags": []
   },
   "outputs": [
    {
     "name": "stdout",
     "output_type": "stream",
     "text": [
      "\n",
      "  > stat\n",
      "\n",
      "                    No. of movies  \\\n",
      "Drama                        4365   \n",
      "Comedy                       3315   \n",
      "Thriller                     1729   \n",
      "Action                       1545   \n",
      "Romance                      1545   \n",
      "Adventure                    1117   \n",
      "Crime                        1100   \n",
      "Horror                        877   \n",
      "Sci-Fi                        792   \n",
      "Fantasy                       654   \n",
      "Children                      583   \n",
      "Mystery                       543   \n",
      "Documentary                   495   \n",
      "Animation                     447   \n",
      "Musical                       394   \n",
      "War                           367   \n",
      "Western                       168   \n",
      "IMAX                          153   \n",
      "Film-Noir                     133   \n",
      "(no genres listed)             18   \n",
      "\n",
      "                                                                                                                  title  \\\n",
      "Drama               Nixon (1995)Othello (1995)Dangerous Minds (1995)Cry, the Beloved Country (1995)Restoration (1995...   \n",
      "Comedy              Father of the Bride Part II (1995)Four Rooms (1995)Ace Ventura: When Nature Calls (1995)Bio-Dome...   \n",
      "Thriller            Jade (1995)Safe (1995)Tie That Binds, The (1995)Hideaway (1995)Red Rock West (1992)Blink (1994)F...   \n",
      "Action              Sudden Death (1995)Fair Game (1995)Under Siege 2: Dark Territory (1995)Hunted, The (1995)Bloodsp...   \n",
      "Romance             Jack and Sarah (1995)Hustler White (1996)Kama Sutra: A Tale of Love (1996)Love and Other Catastr...   \n",
      "Adventure           Mark of Zorro, The (1940)Beyond the Poseidon Adventure (1979)Brenda Starr (1989)Snows of Kiliman...   \n",
      "Crime               Coup de torchon (Clean Slate) (1981)Gridlock'd (1997)Keys to Tulsa (1997)Clay Pigeons (1998)Gene...   \n",
      "Horror              Lord of Illusions (1995)Castle Freak (1995)Cemetery Man (Dellamorte Dellamore) (1994)Eyes Withou...   \n",
      "Sci-Fi              2010: The Year We Make Contact (1984)Meteor (1979)It Came from Outer Space (1953)Mission to Mars...   \n",
      "Fantasy             Andalusian Dog, An (Chien andalou, Un) (1929)Eaux d'artifice (1953)Inauguration of the Pleasure ...   \n",
      "Children                                              Baby-Sitters Club, The (1995)Thomas and the Magic Railroad (2000)   \n",
      "Mystery                                        Mike's Murder (1984)Maltese Falcon, The (a.k.a. Dangerous Female) (1931)   \n",
      "Documentary         Nico Icon (1995)Heidi Fleiss: Hollywood Madam (1995)Catwalk (1996)Anne Frank Remembered (1995)Ma...   \n",
      "Animation           Fritz the Cat (1972)Nine Lives of Fritz the Cat, The (1974)Vincent (1982)Afro Samurai: Resurrect...   \n",
      "Musical             Meet Me in St. Louis (1944)Gigi (1958)Inspector General, The (1949)Madame Butterfly (1995)Broadw...   \n",
      "War                 Prisoner of the Mountains (Kavkazsky plennik) (1996)Pork Chop Hill (1959)Run Silent Run Deep (19...   \n",
      "Western             Wyatt Earp (1994)Bad Girls (1994)Shooter, The (1997)Pale Rider (1985)High Plains Drifter (1973)R...   \n",
      "IMAX                                                                                                                  0   \n",
      "Film-Noir           Force of Evil (1948)Raw Deal (1948)T-Men (1947)Out of the Past (1947)Big Combo, The (1955)Railro...   \n",
      "(no genres listed)  Scorpio Rising (1964)Doctor Who: The Time of the Doctor (2013)Ben-hur (2016)Beastie Boys: Sabota...   \n",
      "\n",
      "                    No. of movies with only 1 genre  \n",
      "Drama                                          1170  \n",
      "Comedy                                          809  \n",
      "Thriller                                         74  \n",
      "Action                                           39  \n",
      "Romance                                          14  \n",
      "Adventure                                        11  \n",
      "Crime                                            11  \n",
      "Horror                                          183  \n",
      "Sci-Fi                                           17  \n",
      "Fantasy                                           3  \n",
      "Children                                          2  \n",
      "Mystery                                           2  \n",
      "Documentary                                     365  \n",
      "Animation                                        10  \n",
      "Musical                                          18  \n",
      "War                                               6  \n",
      "Western                                          31  \n",
      "IMAX                                              0  \n",
      "Film-Noir                                        10  \n",
      "(no genres listed)                               18  \n",
      "\n"
     ]
    }
   ],
   "source": [
    "\n",
    "# example 3\n",
    "movies = pd.read_csv('./movies.csv')\n",
    "movies_ohe = movies.drop('genres', axis=1).join(movies.genres.str.get_dummies())\n",
    "\n",
    "stat_1 = movies_ohe.drop(['title', 'movieId'], axis=1).apply(pd.value_counts)\n",
    "stat_1 = stat_1.transpose().drop(0, axis=1).sort_values(by=1, ascending=False).rename(columns={1:'No. of movies'})\n",
    "\n",
    "stat_2 = movies.join(movies.genres.str.split('|').reset_index().genres.str.len(), rsuffix='r').rename(columns={'genresr':'genre_count'})\n",
    "stat_2 = stat_2[stat_2['genre_count']==1].drop('movieId', axis=1).groupby('genres').sum().sort_values(by='genre_count', ascending=False)\n",
    "\n",
    "stat = stat_1.merge(stat_2, how='left', left_index=True, right_index=True).fillna(0)\n",
    "stat.genre_count = stat.genre_count.astype(int)\n",
    "stat.rename(columns={'genre_count': 'No. of movies with only 1 genre'}, inplace=True)\n",
    "\n",
    "display(stat, 'stat')\n"
   ]
  },
  {
   "cell_type": "code",
   "execution_count": 27,
   "id": "2aafe941-f0e6-4db2-a3b5-3719edd1b80a",
   "metadata": {
    "tags": []
   },
   "outputs": [
    {
     "data": {
      "text/plain": [
       "Text(0.5, 1.0, 'Distribution of number of genres')"
      ]
     },
     "execution_count": 27,
     "metadata": {},
     "output_type": "execute_result"
    },
    {
     "data": {
      "image/png": "[encoded data removed]",
      "text/plain": [
       "<Figure size 640x480 with 1 Axes>"
      ]
     },
     "metadata": {},
     "output_type": "display_data"
    }
   ],
   "source": [
    "\n",
    "movies_ohe.set_index(['movieId','title']).sum(axis=1).hist()\n",
    "\n",
    "plt.title('Distribution of number of genres')\n"
   ]
  }
 ],
 "metadata": {
  "kernelspec": {
   "display_name": "Python 3 (ipykernel)",
   "language": "python",
   "name": "python3"
  },
  "language_info": {
   "codemirror_mode": {
    "name": "ipython",
    "version": 3
   },
   "file_extension": ".py",
   "mimetype": "text/x-python",
   "name": "python",
   "nbconvert_exporter": "python",
   "pygments_lexer": "ipython3",
   "version": "3.11.2"
  }
 },
 "nbformat": 4,
 "nbformat_minor": 5
}
