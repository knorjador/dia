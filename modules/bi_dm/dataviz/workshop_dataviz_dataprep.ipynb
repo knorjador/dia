{
 "cells": [
  {
   "cell_type": "code",
   "execution_count": null,
   "id": "0d9e6db5-a1f0-4d68-99e3-c1029d5a00dd",
   "metadata": {},
   "outputs": [],
   "source": [
    "\n",
    "!pip install markupsafe==2.0.1 --force-reinstall\n",
    "!pip install dataprep\n"
   ]
  },
  {
   "cell_type": "code",
   "execution_count": null,
   "id": "0a6f9a48-34d7-48ab-99fb-34ebee806d27",
   "metadata": {
    "tags": []
   },
   "outputs": [],
   "source": [
    "\n",
    "import pandas as pd\n",
    "from dataprep.eda import create_report\n",
    "\n",
    "df = pd.read_excel('./sports_licences.xlsx', engine='openpyxl')\n",
    "\n",
    "create_report(df).show()\n"
   ]
  }
 ],
 "metadata": {
  "kernelspec": {
   "display_name": "Python 3 (ipykernel)",
   "language": "python",
   "name": "python3"
  },
  "language_info": {
   "codemirror_mode": {
    "name": "ipython",
    "version": 3
   },
   "file_extension": ".py",
   "mimetype": "text/x-python",
   "name": "python",
   "nbconvert_exporter": "python",
   "pygments_lexer": "ipython3",
   "version": "3.11.2"
  }
 },
 "nbformat": 4,
 "nbformat_minor": 5
}
