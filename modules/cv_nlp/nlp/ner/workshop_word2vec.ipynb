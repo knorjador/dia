{
 "cells": [
  {
   "cell_type": "code",
   "execution_count": null,
   "id": "a56c1983-4c4b-449a-9d01-396ca72de289",
   "metadata": {},
   "outputs": [],
   "source": [
    "\n",
    "import pandas as pd\n",
    "import nltk\n",
    "import re\n",
    "import matplotlib.pyplot as plt\n",
    "\n",
    "from sklearn.feature_extraction.text import CountVectorizer\n",
    "from sklearn.feature_extraction.text import CountVectorizer\n",
    "from sklearn.decomposition import PCA\n",
    "from nltk.tokenize import word_tokenize\n",
    "from gensim.models import Word2Vec\n",
    "\n",
    "nltk.download('punkt')\n",
    "\n",
    "def display(to_display):\n",
    "    print()\n",
    "    print(to_display)\n",
    "    print()\n",
    "    "
   ]
  },
  {
   "cell_type": "markdown",
   "id": "60260081-710f-4de4-9e80-466dc9bc717b",
   "metadata": {},
   "source": [
    "\n",
    "## Implementation of Bag of words with python sklearn\n"
   ]
  },
  {
   "cell_type": "code",
   "execution_count": 14,
   "id": "65ea6633-b563-4ffd-a743-04205c0f8a28",
   "metadata": {},
   "outputs": [
    {
     "name": "stdout",
     "output_type": "stream",
     "text": [
      "\n",
      " > Result of Bag of words:\n",
      "\n",
      " [[1 1 0 1 0 1 1 1 1]\n",
      " [1 1 0 2 1 1 1 1 0]\n",
      " [0 0 1 1 0 1 0 1 2]]\n",
      "\n"
     ]
    }
   ],
   "source": [
    "\n",
    "sentences = [\n",
    "    \n",
    "    \"This pasta is very tasty and affordable.\", \n",
    "    \"This pasta is not tasty and is affordable.\", \n",
    "    \"This pasta is very very delicious.\"\n",
    "    \n",
    "]\n",
    "\n",
    "count_vectorizer = CountVectorizer()\n",
    "\n",
    "X = count_vectorizer.fit_transform(sentences)\n",
    "\n",
    "result = X.toarray()\n",
    "\n",
    "display(f\" > Result of Bag of words:\\n\\n { result }\")\n"
   ]
  },
  {
   "cell_type": "markdown",
   "id": "447687e4-a761-473f-b980-ca06dba9ce4d",
   "metadata": {},
   "source": [
    "\n",
    "## Implementation of TF-IDF by using sklearn\n"
   ]
  },
  {
   "cell_type": "code",
   "execution_count": 16,
   "id": "a8c06312-4f8f-4702-8862-b67596e4809a",
   "metadata": {},
   "outputs": [
    {
     "name": "stdout",
     "output_type": "stream",
     "text": [
      "\n",
      " > Feature names:\n",
      "\n",
      " ['affordable' 'and' 'delicious' 'is' 'not' 'pasta' 'tasty' 'this' 'very']\n",
      "\n"
     ]
    }
   ],
   "source": [
    "\n",
    "tfid_vectorizer = TfidfVectorizer()\n",
    "\n",
    "vectors = tfid_vectorizer.fit_transform(sentences)\n",
    "\n",
    "feature_names = tfid_vectorizer.get_feature_names_out()\n",
    "\n",
    "display(f\" > Feature names:\\n\\n { feature_names }\")\n"
   ]
  },
  {
   "cell_type": "code",
   "execution_count": 18,
   "id": "15c7ffa9-4f5a-4e0b-b9a2-88adafc5841f",
   "metadata": {},
   "outputs": [
    {
     "name": "stdout",
     "output_type": "stream",
     "text": [
      "\n",
      " > Final Result of Tf-Idf:\n",
      "\n",
      "    affordable       and  delicious        is       not     pasta     tasty  \\\n",
      "0    0.414896  0.414896   0.000000  0.322204  0.000000  0.322204  0.414896   \n",
      "1    0.346117  0.346117   0.000000  0.537582  0.455102  0.268791  0.346117   \n",
      "2    0.000000  0.000000   0.478909  0.282851  0.000000  0.282851  0.000000   \n",
      "\n",
      "       this      very  \n",
      "0  0.322204  0.414896  \n",
      "1  0.268791  0.000000  \n",
      "2  0.282851  0.728445  \n",
      "\n"
     ]
    }
   ],
   "source": [
    "\n",
    "matrix = vectors. todense()\n",
    "dense_list = matrix.tolist()\n",
    "\n",
    "df = pd.DataFrame(dense_list, columns = feature_names)\n",
    "\n",
    "display(f\" > Final Result of Tf-Idf:\\n\\n { df }\")\n"
   ]
  },
  {
   "cell_type": "markdown",
   "id": "15dd0620-72c9-4ef7-85a6-3cb93193b568",
   "metadata": {},
   "source": [
    "\n",
    "## word2vec implementation\n"
   ]
  },
  {
   "cell_type": "code",
   "execution_count": 23,
   "id": "3aab681c-7a53-4c37-a1d5-6454866654d5",
   "metadata": {},
   "outputs": [
    {
     "name": "stdout",
     "output_type": "stream",
     "text": [
      "\n",
      " > Number of sentences: 11\n",
      "\n",
      "\n",
      " > First sentence from text file:\n",
      "\n",
      " Les premiers travaux en traitement automatique du langage naturel commencent dans les années 1950, \n",
      "\n",
      "\n"
     ]
    }
   ],
   "source": [
    "\n",
    "with open(\"example_text.txt\", 'r', encoding = 'utf-8') as txt:\n",
    "    sentences = txt.readlines()\n",
    "    \n",
    "display(f\" > Number of sentences: { len(sentences) }\")\n",
    "\n",
    "display(f\" > First sentence from text file:\\n\\n { sentences[0] }\")\n"
   ]
  },
  {
   "cell_type": "code",
   "execution_count": 24,
   "id": "2d1ec292-47d0-4e47-9579-9486db3cf76b",
   "metadata": {},
   "outputs": [
    {
     "name": "stdout",
     "output_type": "stream",
     "text": [
      "\n",
      " > First sentence after removing punctuations:\n",
      "\n",
      " Les premiers travaux en traitement automatique du langage naturel commencent dans les ann es        \n",
      "\n"
     ]
    }
   ],
   "source": [
    "\n",
    "# remove punctuations\n",
    "\n",
    "for index in range(len(sentences)):\n",
    "    sentences[index] = re.sub(\"[^a-zA-Z]\" ,\" \", str(sentences[index]))\n",
    "\n",
    "display(f\" > First sentence after removing punctuations:\\n\\n { sentences[0] }\")\n"
   ]
  },
  {
   "cell_type": "code",
   "execution_count": 26,
   "id": "d1cf535e-5aef-467b-996b-20bf32896ac7",
   "metadata": {},
   "outputs": [
    {
     "name": "stdout",
     "output_type": "stream",
     "text": [
      "\n",
      " > First sentence after tokenize:\n",
      "\n",
      " ['Les', 'premiers', 'travaux', 'en', 'traitement', 'automatique', 'du', 'langage', 'naturel', 'commencent', 'dans', 'les', 'ann', 'es']\n",
      "\n"
     ]
    }
   ],
   "source": [
    "\n",
    "# tokenization\n",
    "\n",
    "words_tokenized = []\n",
    "\n",
    "for sentence in sentences:\n",
    "    word_tokens = word_tokenize(sentence)\n",
    "    words_tokenized.append(word_tokens)\n",
    "\n",
    "display(f\" > First sentence after tokenize:\\n\\n { words_tokenized[0] }\")\n"
   ]
  },
  {
   "cell_type": "markdown",
   "id": "d3699b91-1fa5-4dc6-88c7-e381c714373d",
   "metadata": {},
   "source": [
    "\n",
    "## Building word2vec with CBOW method\n"
   ]
  },
  {
   "cell_type": "code",
   "execution_count": 48,
   "id": "653a3945-1080-4af8-a42f-de32a14054ac",
   "metadata": {},
   "outputs": [
    {
     "name": "stdout",
     "output_type": "stream",
     "text": [
      "\n",
      "[['Les', 'premiers', 'travaux', 'en', 'traitement', 'automatique', 'du', 'langage', 'naturel', 'commencent', 'dans', 'les', 'ann', 'es'], ['principalement', 'aux', 'tats', 'Unis', 'o', 'le', 'contexte', 'politique', 'li', 'la', 'guerre', 'froide'], ['est', 'propice', 'au', 'd', 'veloppement', 'de', 'la', 'th', 'matique', 'de', 'la', 'traduction', 'automatique'], [], ['Les', 'premi', 'res', 'applications', 'informatiques', 'sont', 'li', 'es', 'au', 'traitement', 'automatique', 'des', 'conversations'], ['En', 'dans', 'son', 'article', 'fondateur', 'de', 'l', 'intelligence', 'artificielle', 'Computing', 'machinery', 'and', 'intelligence'], ['Alan', 'Turing', 'expose', 'une', 'm', 'thode', 'd', 'valuation', 'qui', 'sera', 'appel', 'e', 'par', 'la', 'suite', 'test', 'de', 'Turing', 'ou', 'crit', 're', 'de', 'Turing'], ['Ce', 'test', 'mesure', 'le', 'degr', 'd', 'intelligence', 'd', 'une', 'machine', 'partir', 'de', 'la', 'capacit', 'd', 'un', 'programme', 'conversationnel'], ['se', 'faire', 'passer', 'pour', 'un', 'tre', 'humain', 'dans', 'un', 'change', 'de', 'messages', 'crits', 'un', 'sujet', 'humain', 'doit', 'd', 'terminer'], ['si', 'son', 'interlocuteur', 'est', 'une', 'machine', 'ou', 'non', 'La', 'base', 'employ', 'e', 'est', 'cependant', 'fragile', 'pour', 'valuer', 'l', 'intelligence', 'artificielle'], ['car', 'l', 'impression', 'd', 'un', 'unique', 'utilisateur', 'd', 'pend', 'de', 'trop', 'de', 'facteurs', 'li', 's', 'au', 'milieu', 'ambiant', 'pour', 'tre', 'rig', 'e', 'en', 'r', 'gle']]\n",
      "\n",
      "\n",
      " > Total number of words: 27\n",
      "\n",
      "\n",
      "{'de': 0, 'd': 1, 'la': 2, 'un': 3, 'intelligence': 4, 'dans': 5, 'est': 6, 'au': 7, 'l': 8, 'li': 9, 'Turing': 10, 'une': 11, 'e': 12, 'automatique': 13, 'pour': 14, 'le': 15, 'es': 16, 'traitement': 17, 'en': 18, 'humain': 19, 'son': 20, 'tre': 21, 'artificielle': 22, 'test': 23, 'ou': 24, 'machine': 25, 'Les': 26}\n",
      "\n"
     ]
    }
   ],
   "source": [
    "\n",
    "model_cbow = Word2Vec(\n",
    "    \n",
    "    sentences = words_tokenized,\n",
    "    vector_size = 2,\n",
    "    window = 2,\n",
    "    min_count = 2,\n",
    "    workers = 1,\n",
    "    sg = 0 \n",
    "    \n",
    ")\n",
    "\n",
    "words_cbow = list(model_cbow.wv.key_to_index)\n",
    "\n",
    "display(words_tokenized)\n",
    "display(f\" > Total number of words: { len(words_cbow) }\")\n",
    "\n",
    "vectors_tree = model_cbow.wv.key_to_index\n",
    "\n",
    "display(vectors_tree)\n"
   ]
  },
  {
   "cell_type": "code",
   "execution_count": 46,
   "id": "ca4846dd-beb3-4c3d-8685-42a63010de45",
   "metadata": {},
   "outputs": [
    {
     "data": {
      "image/png": "[encoded data removed]",
      "text/plain": [
       "<Figure size 640x480 with 1 Axes>"
      ]
     },
     "metadata": {},
     "output_type": "display_data"
    }
   ],
   "source": [
    "\n",
    "X = model_cbow.wv.vectors\n",
    "pca_model = PCA(n_components = 2)\n",
    "result = pca_model.fit_transform(X)\n",
    "\n",
    "words_cbow = list(model_cbow.wv.key_to_index)\n",
    "\n",
    "for i, word in enumerate(words_cbow[:100]):\n",
    "    plt.annotate(text = word, xy = (result[i, 0], result[i, 1]))\n",
    "\n",
    "plt.scatter(result[:, 0], result[:, 1])\n",
    "plt.show()\n"
   ]
  },
  {
   "cell_type": "markdown",
   "id": "0907c67b-2fd1-424f-bde3-1c1486882a7a",
   "metadata": {},
   "source": [
    "\n",
    "## Building word2vec with skip-gram method\n"
   ]
  },
  {
   "cell_type": "code",
   "execution_count": 49,
   "id": "70c7e6a4-efa2-466a-b87b-f126ba205035",
   "metadata": {},
   "outputs": [
    {
     "name": "stdout",
     "output_type": "stream",
     "text": [
      "\n",
      "[['Les', 'premiers', 'travaux', 'en', 'traitement', 'automatique', 'du', 'langage', 'naturel', 'commencent', 'dans', 'les', 'ann', 'es'], ['principalement', 'aux', 'tats', 'Unis', 'o', 'le', 'contexte', 'politique', 'li', 'la', 'guerre', 'froide'], ['est', 'propice', 'au', 'd', 'veloppement', 'de', 'la', 'th', 'matique', 'de', 'la', 'traduction', 'automatique'], [], ['Les', 'premi', 'res', 'applications', 'informatiques', 'sont', 'li', 'es', 'au', 'traitement', 'automatique', 'des', 'conversations'], ['En', 'dans', 'son', 'article', 'fondateur', 'de', 'l', 'intelligence', 'artificielle', 'Computing', 'machinery', 'and', 'intelligence'], ['Alan', 'Turing', 'expose', 'une', 'm', 'thode', 'd', 'valuation', 'qui', 'sera', 'appel', 'e', 'par', 'la', 'suite', 'test', 'de', 'Turing', 'ou', 'crit', 're', 'de', 'Turing'], ['Ce', 'test', 'mesure', 'le', 'degr', 'd', 'intelligence', 'd', 'une', 'machine', 'partir', 'de', 'la', 'capacit', 'd', 'un', 'programme', 'conversationnel'], ['se', 'faire', 'passer', 'pour', 'un', 'tre', 'humain', 'dans', 'un', 'change', 'de', 'messages', 'crits', 'un', 'sujet', 'humain', 'doit', 'd', 'terminer'], ['si', 'son', 'interlocuteur', 'est', 'une', 'machine', 'ou', 'non', 'La', 'base', 'employ', 'e', 'est', 'cependant', 'fragile', 'pour', 'valuer', 'l', 'intelligence', 'artificielle'], ['car', 'l', 'impression', 'd', 'un', 'unique', 'utilisateur', 'd', 'pend', 'de', 'trop', 'de', 'facteurs', 'li', 's', 'au', 'milieu', 'ambiant', 'pour', 'tre', 'rig', 'e', 'en', 'r', 'gle']]\n",
      "\n",
      "\n",
      " > Total number of words: 5\n",
      "\n",
      "\n",
      "{'de': 0, 'd': 1, 'un': 2, 'la': 3, 'intelligence': 4}\n",
      "\n"
     ]
    }
   ],
   "source": [
    "\n",
    "model_skip = Word2Vec(\n",
    "    \n",
    "    sentences = words_tokenized,\n",
    "    vector_size = 2,\n",
    "    window = 2,\n",
    "    min_count = 4,\n",
    "    workers = 1,\n",
    "    sg = 1 \n",
    "    \n",
    ")\n",
    "\n",
    "words_skip_gram = list(model_skip.wv.key_to_index)\n",
    "\n",
    "display(words_tokenized)\n",
    "display(f\" > Total number of words: { len(words_skip_gram) }\")\n",
    "\n",
    "words_embeddings = model_skip.wv.key_to_index\n",
    "\n",
    "display(words_embeddings)\n"
   ]
  },
  {
   "cell_type": "code",
   "execution_count": 50,
   "id": "2f04b936-009b-45f5-bed9-c2b57c99581c",
   "metadata": {},
   "outputs": [
    {
     "data": {
      "image/png": "[encoded data removed]",
      "text/plain": [
       "<Figure size 640x480 with 1 Axes>"
      ]
     },
     "metadata": {},
     "output_type": "display_data"
    }
   ],
   "source": [
    "\n",
    "X = model_skip.wv.vectors\n",
    "pca_model = PCA(n_components = 2)\n",
    "result = pca_model.fit_transform(X)\n",
    "\n",
    "words_skip_gram = list(model_skip.wv.key_to_index)\n",
    "\n",
    "for i, word in enumerate(words_skip_gram[:100]):\n",
    "    plt.annotate(text = word, xy = (result[i, 0], result[i, 1]))\n",
    "\n",
    "plt.scatter(result[:, 0], result[:, 1])\n",
    "plt.show()\n"
   ]
  }
 ],
 "metadata": {
  "kernelspec": {
   "display_name": "Python 3 (ipykernel)",
   "language": "python",
   "name": "python3"
  },
  "language_info": {
   "codemirror_mode": {
    "name": "ipython",
    "version": 3
   },
   "file_extension": ".py",
   "mimetype": "text/x-python",
   "name": "python",
   "nbconvert_exporter": "python",
   "pygments_lexer": "ipython3",
   "version": "3.11.7"
  }
 },
 "nbformat": 4,
 "nbformat_minor": 5
}
