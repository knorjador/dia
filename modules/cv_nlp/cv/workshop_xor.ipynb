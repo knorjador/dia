{
 "cells": [
  {
   "cell_type": "markdown",
   "metadata": {},
   "source": [
    "# XOR Prediction Neural Network\n",
    "#### A simple neural network which will learn the XOR logic gate.\n",
    "\n",
    "I will provide you with any links necessary so that you can read about the different aspects of this NN(Neural Network)."
   ]
  },
  {
   "attachments": {
    "nn_pic.png": {
     "image/png": "[encoded data removed]"
    }
   },
   "cell_type": "markdown",
   "metadata": {},
   "source": [
    "## Neural Network Info\n",
    "\n",
    "#### All information regarding the neural network:\n",
    "\n",
    "- Input Layer Units = 2 (Can be modified)\n",
    "- Hidden Layer Units = 2 (Can be modified)\n",
    "- Output Layer Units = 1 (Since this is problem specific, it can't be modified)\n",
    "\n",
    "- No. of hidden layers = 1\n",
    "- Learning Algorithm = Backpropagation\n",
    "\n",
    "![nn_pic.png](attachment:nn_pic.png)\n",
    "\n",
    "Feel free to mess around with it and try out different things."
   ]
  },
  {
   "cell_type": "code",
   "execution_count": 71,
   "metadata": {
    "tags": []
   },
   "outputs": [],
   "source": [
    "import numpy as np # For matrix math\n",
    "import matplotlib.pyplot as plt # For plotting\n",
    "\n",
    "import sys # For printing"
   ]
  },
  {
   "cell_type": "markdown",
   "metadata": {},
   "source": [
    "### Neural Network Implementation\n",
    "Initially, I was going to approach this in an Object Oriented manner but I think that it would be much easier to read and implement, functionally. So, let's get started."
   ]
  },
  {
   "cell_type": "markdown",
   "metadata": {},
   "source": [
    "### Training Data\n",
    "\n",
    "The XOR logic gate returns true when the number of inputs given is odd and false when they're even. Here is the simple training dataset."
   ]
  },
  {
   "cell_type": "code",
   "execution_count": 88,
   "metadata": {
    "tags": []
   },
   "outputs": [],
   "source": [
    "# The training data.\n",
    "X = np.array([\n",
    "    [0, 1],\n",
    "    [1, 0],\n",
    "    [1, 1],\n",
    "    [0, 0]\n",
    "])\n",
    "\n",
    "# The labels for the training data.\n",
    "y = np.array([\n",
    "    [1],\n",
    "    [1],\n",
    "    [0],\n",
    "    [0]\n",
    "])"
   ]
  },
  {
   "cell_type": "code",
   "execution_count": 89,
   "metadata": {
    "tags": []
   },
   "outputs": [
    {
     "data": {
      "text/plain": [
       "array([[0, 1],\n",
       "       [1, 0],\n",
       "       [1, 1],\n",
       "       [0, 0]])"
      ]
     },
     "execution_count": 89,
     "metadata": {},
     "output_type": "execute_result"
    }
   ],
   "source": [
    "X"
   ]
  },
  {
   "cell_type": "code",
   "execution_count": 90,
   "metadata": {
    "tags": []
   },
   "outputs": [
    {
     "data": {
      "text/plain": [
       "array([[1],\n",
       "       [1],\n",
       "       [0],\n",
       "       [0]])"
      ]
     },
     "execution_count": 90,
     "metadata": {},
     "output_type": "execute_result"
    }
   ],
   "source": [
    "y"
   ]
  },
  {
   "cell_type": "markdown",
   "metadata": {},
   "source": [
    "### Additional Parameters\n",
    "These are just additional parameters which are required by the weights for their dimensions."
   ]
  },
  {
   "cell_type": "code",
   "execution_count": 91,
   "metadata": {
    "tags": []
   },
   "outputs": [],
   "source": [
    "num_i_units = 2 # Number of Input units\n",
    "num_h_units = 44 # Number of Hidden units\n",
    "num_o_units = 1 # Number of Output units"
   ]
  },
  {
   "cell_type": "markdown",
   "metadata": {},
   "source": [
    "### Neural Network Parameters\n",
    "These are the parameters required directly by the NN. Comments should describe the variables."
   ]
  },
  {
   "cell_type": "code",
   "execution_count": 93,
   "metadata": {
    "tags": []
   },
   "outputs": [],
   "source": [
    "# The learning rate for Gradient Descent.\n",
    "learning_rate = 1.07\n",
    "\n",
    "# The parameter to help with overfitting.\n",
    "reg_param = 0\n",
    "\n",
    "# Maximum iterations for Gradient Descent.\n",
    "max_iter = 16000\n",
    "\n",
    "# Number of training examples\n",
    "m = 4"
   ]
  },
  {
   "cell_type": "markdown",
   "metadata": {},
   "source": [
    "### Weights and Biases\n",
    "These are the numbers the NN needs to learn to make accurate predictions.\n",
    "\n",
    "For the connections being made from the input layer to the hidden layer, the weights and biases are arranged in the following order: **each row contains the weights for each hidden unit**. Then, the shape of these set of weights is: *(number of hidden units X number of input units)* and the shape of the biases for this connection will be: *(number of hidden units X 1)*.\n",
    "\n",
    "So, the overall shape of the weights and biases are:\n",
    "\n",
    "**Weights1(Connection from input to hidden layers)**: num_h_units X num_i_units\n",
    "**Biases1(Connection from input to hidden layers)**: num_h_units X 1\n",
    "\n",
    "**Weights2(Connection from hidden to output layers)**: num_o_units X num_h_units\n",
    "**Biases2(Connection from hidden to output layers)**: num_o_units X 1\n",
    "\n",
    "### Generating the Weights\n",
    "\n",
    "The weights here are going to be generated using a [Normal Distribution(Gaussian Distribution)](http://mathworld.wolfram.com/NormalDistribution.html). They will also be seeded so that the outcome always comes out the same."
   ]
  },
  {
   "cell_type": "code",
   "execution_count": 94,
   "metadata": {
    "tags": []
   },
   "outputs": [],
   "source": [
    "np.random.seed(1)\n",
    "W1 = np.random.normal(0, 1, (num_h_units, num_i_units)) # 2x2\n",
    "W2 = np.random.normal(0, 1, (num_o_units, num_h_units)) # 1x2\n",
    "\n",
    "B1 = np.random.random((num_h_units, 1)) # 2x1\n",
    "B2 = np.random.random((num_o_units, 1)) # 1x1"
   ]
  },
  {
   "cell_type": "code",
   "execution_count": 95,
   "metadata": {
    "tags": []
   },
   "outputs": [
    {
     "data": {
      "text/plain": [
       "array([[ 1.62434536, -0.61175641],\n",
       "       [-0.52817175, -1.07296862],\n",
       "       [ 0.86540763, -2.3015387 ],\n",
       "       [ 1.74481176, -0.7612069 ],\n",
       "       [ 0.3190391 , -0.24937038],\n",
       "       [ 1.46210794, -2.06014071],\n",
       "       [-0.3224172 , -0.38405435],\n",
       "       [ 1.13376944, -1.09989127],\n",
       "       [-0.17242821, -0.87785842],\n",
       "       [ 0.04221375,  0.58281521],\n",
       "       [-1.10061918,  1.14472371],\n",
       "       [ 0.90159072,  0.50249434],\n",
       "       [ 0.90085595, -0.68372786],\n",
       "       [-0.12289023, -0.93576943],\n",
       "       [-0.26788808,  0.53035547],\n",
       "       [-0.69166075, -0.39675353],\n",
       "       [-0.6871727 , -0.84520564],\n",
       "       [-0.67124613, -0.0126646 ],\n",
       "       [-1.11731035,  0.2344157 ],\n",
       "       [ 1.65980218,  0.74204416],\n",
       "       [-0.19183555, -0.88762896],\n",
       "       [-0.74715829,  1.6924546 ],\n",
       "       [ 0.05080775, -0.63699565],\n",
       "       [ 0.19091548,  2.10025514],\n",
       "       [ 0.12015895,  0.61720311],\n",
       "       [ 0.30017032, -0.35224985],\n",
       "       [-1.1425182 , -0.34934272],\n",
       "       [-0.20889423,  0.58662319],\n",
       "       [ 0.83898341,  0.93110208],\n",
       "       [ 0.28558733,  0.88514116],\n",
       "       [-0.75439794,  1.25286816],\n",
       "       [ 0.51292982, -0.29809284],\n",
       "       [ 0.48851815, -0.07557171],\n",
       "       [ 1.13162939,  1.51981682],\n",
       "       [ 2.18557541, -1.39649634],\n",
       "       [-1.44411381, -0.50446586],\n",
       "       [ 0.16003707,  0.87616892],\n",
       "       [ 0.31563495, -2.02220122],\n",
       "       [-0.30620401,  0.82797464],\n",
       "       [ 0.23009474,  0.76201118],\n",
       "       [-0.22232814, -0.20075807],\n",
       "       [ 0.18656139,  0.41005165],\n",
       "       [ 0.19829972,  0.11900865],\n",
       "       [-0.67066229,  0.37756379]])"
      ]
     },
     "execution_count": 95,
     "metadata": {},
     "output_type": "execute_result"
    }
   ],
   "source": [
    "W1"
   ]
  },
  {
   "cell_type": "code",
   "execution_count": 96,
   "metadata": {
    "tags": []
   },
   "outputs": [
    {
     "data": {
      "text/plain": [
       "array([[ 0.12182127,  1.12948391,  1.19891788,  0.18515642, -0.37528495,\n",
       "        -0.63873041,  0.42349435,  0.07734007, -0.34385368,  0.04359686,\n",
       "        -0.62000084,  0.69803203, -0.44712856,  1.2245077 ,  0.40349164,\n",
       "         0.59357852, -1.09491185,  0.16938243,  0.74055645, -0.9537006 ,\n",
       "        -0.26621851,  0.03261455, -1.37311732,  0.31515939,  0.84616065,\n",
       "        -0.85951594,  0.35054598, -1.31228341, -0.03869551, -1.61577235,\n",
       "         1.12141771,  0.40890054, -0.02461696, -0.77516162,  1.27375593,\n",
       "         1.96710175, -1.85798186,  1.23616403,  1.62765075,  0.3380117 ,\n",
       "        -1.19926803,  0.86334532, -0.1809203 , -0.60392063]])"
      ]
     },
     "execution_count": 96,
     "metadata": {},
     "output_type": "execute_result"
    }
   ],
   "source": [
    "W2"
   ]
  },
  {
   "cell_type": "code",
   "execution_count": 97,
   "metadata": {
    "tags": []
   },
   "outputs": [
    {
     "data": {
      "text/plain": [
       "array([[0.62971751],\n",
       "       [0.21017401],\n",
       "       [0.75275555],\n",
       "       [0.06653648],\n",
       "       [0.2603151 ],\n",
       "       [0.80475456],\n",
       "       [0.19343428],\n",
       "       [0.63946088],\n",
       "       [0.52467031],\n",
       "       [0.92480797],\n",
       "       [0.26329677],\n",
       "       [0.06596109],\n",
       "       [0.73506596],\n",
       "       [0.77217803],\n",
       "       [0.90781585],\n",
       "       [0.93197207],\n",
       "       [0.01395157],\n",
       "       [0.23436209],\n",
       "       [0.61677836],\n",
       "       [0.94901632],\n",
       "       [0.95017612],\n",
       "       [0.55665319],\n",
       "       [0.91560635],\n",
       "       [0.64156621],\n",
       "       [0.39000771],\n",
       "       [0.48599067],\n",
       "       [0.60431048],\n",
       "       [0.54954792],\n",
       "       [0.92618143],\n",
       "       [0.91873344],\n",
       "       [0.39487561],\n",
       "       [0.96326253],\n",
       "       [0.17395567],\n",
       "       [0.12632952],\n",
       "       [0.13507916],\n",
       "       [0.50566217],\n",
       "       [0.02152481],\n",
       "       [0.94797021],\n",
       "       [0.82711547],\n",
       "       [0.01501898],\n",
       "       [0.17619626],\n",
       "       [0.33206357],\n",
       "       [0.13099684],\n",
       "       [0.80949069]])"
      ]
     },
     "execution_count": 97,
     "metadata": {},
     "output_type": "execute_result"
    }
   ],
   "source": [
    "B1"
   ]
  },
  {
   "cell_type": "code",
   "execution_count": 98,
   "metadata": {
    "tags": []
   },
   "outputs": [
    {
     "data": {
      "text/plain": [
       "array([[0.34473665]])"
      ]
     },
     "execution_count": 98,
     "metadata": {},
     "output_type": "execute_result"
    }
   ],
   "source": [
    "B2"
   ]
  },
  {
   "attachments": {
    "sigmoid-curve.png": {
     "image/png": "[encoded data removed]"
    }
   },
   "cell_type": "markdown",
   "metadata": {},
   "source": [
    "### Sigmoid Function\n",
    "[This](http://mathworld.wolfram.com/SigmoidFunction.html) function maps any input to a value between 0 and 1.\n",
    "\n",
    "![sigmoid-curve.png](attachment:sigmoid-curve.png)\n",
    "\n",
    "In my implementation, I have added a boolean which if set to true, will return [Sigmoid Prime(the derivative of the sigmoid function)](http://www.ai.mit.edu/courses/6.892/lecture8-html/sld015.htm) of the input value. This will be used in backpropagation later on."
   ]
  },
  {
   "cell_type": "code",
   "execution_count": 99,
   "metadata": {
    "tags": []
   },
   "outputs": [],
   "source": [
    "def sigmoid(z, derv=False):\n",
    "    if derv: return z * (1 - z)\n",
    "    return 1 / (1 + np.exp(-z))"
   ]
  },
  {
   "cell_type": "markdown",
   "metadata": {},
   "source": [
    "### Forward Propagation\n",
    "[This](https://en.wikipedia.org/wiki/Feedforward_neural_network) is how predictions are made. Propagating the input through the NN to get the output.\n",
    "\n",
    "In my implementation, the forward function only accepts a feature vector as row vector which is then converted to a column vector. Also, the predict boolean, if set to true, only returns the output. Otherwise, it returns a tuple of the outputs of all the layers."
   ]
  },
  {
   "cell_type": "code",
   "execution_count": 100,
   "metadata": {
    "tags": []
   },
   "outputs": [],
   "source": [
    "def forward(x, predict=False):\n",
    "    a1 = x.reshape(x.shape[0], 1) # Getting the training example as a column vector.\n",
    "\n",
    "    z2 = W1.dot(a1) + B1 # 2x2 * 2x1 + 2x1 = 2x1\n",
    "    a2 = sigmoid(z2) # 2x1\n",
    "\n",
    "    z3 = W2.dot(a2) + B2 # 1x2 * 2x1 + 1x1 = 1x1\n",
    "    a3 = sigmoid(z3)\n",
    "\n",
    "    if predict: return a3\n",
    "    return (a1, a2, a3)"
   ]
  },
  {
   "cell_type": "markdown",
   "metadata": {},
   "source": [
    "### Gradients for the Weights and Biases\n",
    "These variables will contain the gradients for the weights and biases which will be used by gradient descent to update the weights and biases.\n",
    "\n",
    "Also, creating the vector which will be storing the cost values for each gradient descent iteration to help visualize the cost as the weights and biases are updated."
   ]
  },
  {
   "cell_type": "code",
   "execution_count": 101,
   "metadata": {
    "tags": []
   },
   "outputs": [],
   "source": [
    "dW1 = 0 # Gradient for W1\n",
    "dW2 = 0 # Gradient for W2\n",
    "\n",
    "dB1 = 0 # Gradient for B1\n",
    "dB2 = 0 # Gradient for B2\n",
    "\n",
    "cost = np.zeros((max_iter, 1)) # Column vector to record the cost of the NN after each Gradient Descent iteration."
   ]
  },
  {
   "cell_type": "markdown",
   "metadata": {},
   "source": [
    "## Training\n",
    "This is the training function which contains the meat of NN. This contains forward propagation and [Backpropagation](http://neuralnetworksanddeeplearning.com/chap2.html).\n",
    "\n",
    "### Backpropagation\n",
    "The process of propagating the error in the output layer, backwards through the NN to calculate the error in each layer. Intuition: It's like forward propagation, but backwards.\n",
    "\n",
    "Steps(for this NN):\n",
    "1. Calculate the error in the output layer(dz2).\n",
    "2. Calculate the error in the weights connecting the hidden layer to the output layer using dz2 (dW2).\n",
    "3. Calculate the error in the hidden layer(dz1).\n",
    "4. Calculate the error in the weights connecting the input layer to the hidden layer using dz1 (dW1).\n",
    "5. The errors in the biases are just the errors in the respective layers.\n",
    "\n",
    "Afterwards, the gradients(errors) of the weights and biases are used to update the corresponding weights and biases by multiplying them with the negative of the learning rate and scaling it by divinding it by the number of training examples.\n",
    "\n",
    "While iterating over all the training examples, the cost is also being calculated simultaneously for each example. Then, a regurlization parameter is added, although for such a small dataset, regularization is unnecessary since to perform well, the NN will have to over fit to the training data."
   ]
  },
  {
   "cell_type": "code",
   "execution_count": 102,
   "metadata": {
    "tags": []
   },
   "outputs": [],
   "source": [
    "def train(_W1, _W2, _B1, _B2): # The arguments are to bypass UnboundLocalError error\n",
    "    for i in range(max_iter):\n",
    "        c = 0\n",
    "        \n",
    "        dW1 = 0\n",
    "        dW2 = 0\n",
    "\n",
    "        dB1 = 0\n",
    "        dB2 = 0\n",
    "        \n",
    "        for j in range(m):\n",
    "            sys.stdout.write(\"\\rIteration: {} and {}\".format(i + 1, j + 1))\n",
    "\n",
    "            # Forward Prop.\n",
    "            a0 = X[j].reshape(X[j].shape[0], 1) # 2x1\n",
    "\n",
    "            z1 = _W1.dot(a0) + _B1 # 2x2 * 2x1 + 2x1 = 2x1\n",
    "            a1 = sigmoid(z1) # 2x1\n",
    "\n",
    "            z2 = _W2.dot(a1) + _B2 # 1x2 * 2x1 + 1x1 = 1x1\n",
    "            a2 = sigmoid(z2) # 1x1\n",
    "\n",
    "            # Back prop.\n",
    "            dz2 = a2 - y[j] # 1x1\n",
    "            dW2 += dz2 * a1.T # 1x1 .* 1x2 = 1x2\n",
    "\n",
    "            dz1 = np.multiply((_W2.T * dz2), sigmoid(a1, derv=True)) # (2x1 * 1x1) .* 2x1 = 2x1\n",
    "            dW1 += dz1.dot(a0.T) # 2x1 * 1x2 = 2x2\n",
    "\n",
    "            dB1 += dz1 # 2x1\n",
    "            dB2 += dz2 # 1x1\n",
    "\n",
    "            c = c + (-(y[j] * np.log(a2)) - ((1 - y[j]) * np.log(1 - a2)))\n",
    "            sys.stdout.flush() # Updating the text.\n",
    "        \n",
    "        _W1 = _W1 - learning_rate * (dW1 / m) + ( (reg_param / m) * _W1)\n",
    "        _W2 = _W2 - learning_rate * (dW2 / m) + ( (reg_param / m) * _W2)\n",
    "\n",
    "        _B1 = _B1 - learning_rate * (dB1 / m)\n",
    "        _B2 = _B2 - learning_rate * (dB2 / m)\n",
    "        cost[i] = (c / m) + ( \n",
    "            (reg_param / (2 * m)) * \n",
    "            (\n",
    "                np.sum(np.power(_W1, 2)) + \n",
    "                np.sum(np.power(_W2, 2))\n",
    "            )\n",
    "        )\n",
    "    return (_W1, _W2, _B1, _B2)"
   ]
  },
  {
   "cell_type": "markdown",
   "metadata": {},
   "source": [
    "## Running\n",
    "Now, let's try out the NN. Here, I have called the train() function. You can make any changes you like and then run all the kernels again. I have also plotted the cost function to visual how the NN performed.\n",
    "\n",
    "The console printing might be off.\n",
    "\n",
    "The weights and biases are then shown."
   ]
  },
  {
   "cell_type": "code",
   "execution_count": null,
   "metadata": {
    "tags": []
   },
   "outputs": [
    {
     "name": "stdout",
     "output_type": "stream",
     "text": [
      "Iteration: 750 and 4"
     ]
    },
    {
     "name": "stderr",
     "output_type": "stream",
     "text": [
      "IOPub message rate exceeded.\n",
      "The Jupyter server will temporarily stop sending output\n",
      "to the client in order to avoid crashing it.\n",
      "To change this limit, set the config variable\n",
      "`--ServerApp.iopub_msg_rate_limit`.\n",
      "\n",
      "Current values:\n",
      "ServerApp.iopub_msg_rate_limit=1000.0 (msgs/sec)\n",
      "ServerApp.rate_limit_window=3.0 (secs)\n",
      "\n"
     ]
    },
    {
     "name": "stdout",
     "output_type": "stream",
     "text": [
      "Iteration: 1808 and 1"
     ]
    },
    {
     "name": "stderr",
     "output_type": "stream",
     "text": [
      "IOPub message rate exceeded.\n",
      "The Jupyter server will temporarily stop sending output\n",
      "to the client in order to avoid crashing it.\n",
      "To change this limit, set the config variable\n",
      "`--ServerApp.iopub_msg_rate_limit`.\n",
      "\n",
      "Current values:\n",
      "ServerApp.iopub_msg_rate_limit=1000.0 (msgs/sec)\n",
      "ServerApp.rate_limit_window=3.0 (secs)\n",
      "\n"
     ]
    },
    {
     "name": "stdout",
     "output_type": "stream",
     "text": [
      "Iteration: 2952 and 4"
     ]
    },
    {
     "name": "stderr",
     "output_type": "stream",
     "text": [
      "IOPub message rate exceeded.\n",
      "The Jupyter server will temporarily stop sending output\n",
      "to the client in order to avoid crashing it.\n",
      "To change this limit, set the config variable\n",
      "`--ServerApp.iopub_msg_rate_limit`.\n",
      "\n",
      "Current values:\n",
      "ServerApp.iopub_msg_rate_limit=1000.0 (msgs/sec)\n",
      "ServerApp.rate_limit_window=3.0 (secs)\n",
      "\n"
     ]
    },
    {
     "name": "stdout",
     "output_type": "stream",
     "text": [
      "Iteration: 4047 and 4"
     ]
    },
    {
     "name": "stderr",
     "output_type": "stream",
     "text": [
      "IOPub message rate exceeded.\n",
      "The Jupyter server will temporarily stop sending output\n",
      "to the client in order to avoid crashing it.\n",
      "To change this limit, set the config variable\n",
      "`--ServerApp.iopub_msg_rate_limit`.\n",
      "\n",
      "Current values:\n",
      "ServerApp.iopub_msg_rate_limit=1000.0 (msgs/sec)\n",
      "ServerApp.rate_limit_window=3.0 (secs)\n",
      "\n"
     ]
    },
    {
     "name": "stdout",
     "output_type": "stream",
     "text": [
      "Iteration: 5213 and 3"
     ]
    },
    {
     "name": "stderr",
     "output_type": "stream",
     "text": [
      "IOPub message rate exceeded.\n",
      "The Jupyter server will temporarily stop sending output\n",
      "to the client in order to avoid crashing it.\n",
      "To change this limit, set the config variable\n",
      "`--ServerApp.iopub_msg_rate_limit`.\n",
      "\n",
      "Current values:\n",
      "ServerApp.iopub_msg_rate_limit=1000.0 (msgs/sec)\n",
      "ServerApp.rate_limit_window=3.0 (secs)\n",
      "\n"
     ]
    },
    {
     "name": "stdout",
     "output_type": "stream",
     "text": [
      "Iteration: 5877 and 2"
     ]
    }
   ],
   "source": [
    "W1, W2, B1, B2 = train(W1, W2, B1, B2)"
   ]
  },
  {
   "cell_type": "code",
   "execution_count": 104,
   "metadata": {
    "tags": []
   },
   "outputs": [
    {
     "data": {
      "text/plain": [
       "array([[ 2.2071555 , -1.08578253],\n",
       "       [-0.07138432, -1.0889204 ],\n",
       "       [ 4.46807055, -5.53705428],\n",
       "       [ 1.56227184, -2.11312311],\n",
       "       [-0.11238937, -0.62943078],\n",
       "       [ 6.2736484 , -5.41936597],\n",
       "       [-0.50780298, -0.52581141],\n",
       "       [ 0.75610488, -1.73964148],\n",
       "       [-1.46883997, -1.82103264],\n",
       "       [-0.59052843,  0.06888524],\n",
       "       [-1.12684739,  1.22447471],\n",
       "       [ 0.52748867,  0.31677884],\n",
       "       [ 1.41564756, -0.94435211],\n",
       "       [-0.17504232, -1.21381699],\n",
       "       [-0.99475748,  0.10921353],\n",
       "       [-0.99423378, -0.50241131],\n",
       "       [-4.23546976, -4.31880987],\n",
       "       [-0.96179699, -0.14969427],\n",
       "       [-2.31702462,  0.94729979],\n",
       "       [ 2.26189184, -1.03547369],\n",
       "       [-1.2746823 , -1.72848734],\n",
       "       [-0.99931844,  1.69689738],\n",
       "       [-1.51984514, -1.92644678],\n",
       "       [ 1.83636297,  2.53947027],\n",
       "       [-0.6946313 ,  0.27121972],\n",
       "       [-0.32253354, -0.86365681],\n",
       "       [-1.34278472, -0.45335209],\n",
       "       [-0.39800433,  0.36801966],\n",
       "       [ 0.65251886,  0.7974224 ],\n",
       "       [-1.00672345,  1.84973105],\n",
       "       [-4.11492687,  3.16344252],\n",
       "       [-0.02734899, -0.83070238],\n",
       "       [ 0.0911262 , -0.48568385],\n",
       "       [ 0.60598203,  0.99774722],\n",
       "       [ 5.22722697, -6.07813716],\n",
       "       [-3.69018376,  2.31309255],\n",
       "       [ 0.37132713,  0.69959053],\n",
       "       [ 2.39928208, -3.88945834],\n",
       "       [-0.98641861,  0.27083149],\n",
       "       [-0.44552043,  0.3685118 ],\n",
       "       [-1.86575347, -1.95247512],\n",
       "       [-0.51759962,  0.06947112],\n",
       "       [-0.1785758 , -0.27120027],\n",
       "       [-1.10778184, -0.0728294 ]])"
      ]
     },
     "execution_count": 104,
     "metadata": {},
     "output_type": "execute_result"
    }
   ],
   "source": [
    "W1"
   ]
  },
  {
   "cell_type": "code",
   "execution_count": 105,
   "metadata": {
    "tags": []
   },
   "outputs": [
    {
     "data": {
      "text/plain": [
       "array([[-1.40845206e+00,  7.63183012e-01,  7.20473905e+00,\n",
       "         1.54695507e+00,  3.77351176e-03, -9.48578749e+00,\n",
       "         3.26182634e-01,  7.07043601e-01, -1.16469281e+00,\n",
       "         4.12535397e-01, -1.44230481e-01,  1.63523038e-01,\n",
       "        -8.78497831e-01,  1.00565012e+00,  7.72687901e-01,\n",
       "         7.69324553e-01, -5.62551255e+00,  4.02592209e-01,\n",
       "         1.84341397e+00, -1.73534254e+00, -8.13347680e-01,\n",
       "        -4.07776114e-01, -1.43019152e+00,  1.81624681e+00,\n",
       "         8.18808205e-01, -2.83529509e-01,  2.76288961e-01,\n",
       "        -3.44640202e-01,  3.32251590e-01, -1.63126315e+00,\n",
       "         4.74881637e+00,  5.08098176e-01,  1.80509504e-01,\n",
       "        -6.64409845e-01,  8.86135331e+00,  3.86404011e+00,\n",
       "        -1.03927751e+00,  3.59743280e+00,  1.34699228e+00,\n",
       "         4.42755489e-01, -1.88276805e+00,  7.38206562e-01,\n",
       "         8.47342359e-02,  2.81710966e-01]])"
      ]
     },
     "execution_count": 105,
     "metadata": {},
     "output_type": "execute_result"
    }
   ],
   "source": [
    "W2"
   ]
  },
  {
   "cell_type": "code",
   "execution_count": 106,
   "metadata": {
    "tags": []
   },
   "outputs": [
    {
     "data": {
      "text/plain": [
       "array([[ 0.50916955],\n",
       "       [-0.07170006],\n",
       "       [-2.23080595],\n",
       "       [-1.15756185],\n",
       "       [-0.49373103],\n",
       "       [ 2.74173173],\n",
       "       [-0.31703286],\n",
       "       [-0.27704995],\n",
       "       [-0.34563665],\n",
       "       [-0.07307304],\n",
       "       [ 0.23761605],\n",
       "       [-0.55887717],\n",
       "       [ 0.58531172],\n",
       "       [ 0.40713729],\n",
       "       [-0.04302675],\n",
       "       [ 0.58486356],\n",
       "       [ 1.33355958],\n",
       "       [-0.30018031],\n",
       "       [-0.38647113],\n",
       "       [ 0.51620284],\n",
       "       [-0.18047166],\n",
       "       [ 0.1668613 ],\n",
       "       [-0.30373191],\n",
       "       [ 0.03763934],\n",
       "       [-0.5198409 ],\n",
       "       [-0.40335014],\n",
       "       [ 0.11128837],\n",
       "       [-0.06893393],\n",
       "       [ 0.18333154],\n",
       "       [ 0.78939649],\n",
       "       [-1.64117795],\n",
       "       [ 0.01832993],\n",
       "       [-0.59355077],\n",
       "       [-1.03844499],\n",
       "       [-2.66808498],\n",
       "       [-1.08033111],\n",
       "       [-0.73855348],\n",
       "       [-1.10517265],\n",
       "       [-0.19065888],\n",
       "       [-0.80555197],\n",
       "       [-0.40691005],\n",
       "       [-0.48937654],\n",
       "       [-0.6147158 ],\n",
       "       [ 0.01192401]])"
      ]
     },
     "execution_count": 106,
     "metadata": {},
     "output_type": "execute_result"
    }
   ],
   "source": [
    "B1"
   ]
  },
  {
   "cell_type": "code",
   "execution_count": 107,
   "metadata": {
    "tags": []
   },
   "outputs": [
    {
     "data": {
      "text/plain": [
       "array([[0.58927619]])"
      ]
     },
     "execution_count": 107,
     "metadata": {},
     "output_type": "execute_result"
    }
   ],
   "source": [
    "B2"
   ]
  },
  {
   "cell_type": "markdown",
   "metadata": {},
   "source": [
    "### Plotting\n",
    "Now, let's plot a simple plot showing the cost function with respect to the number of iterations of gradient descent."
   ]
  },
  {
   "cell_type": "code",
   "execution_count": 108,
   "metadata": {
    "tags": []
   },
   "outputs": [
    {
     "data": {
      "image/png": "[encoded data removed]",
      "text/plain": [
       "<Figure size 640x480 with 1 Axes>"
      ]
     },
     "metadata": {},
     "output_type": "display_data"
    },
    {
     "name": "stdout",
     "output_type": "stream",
     "text": [
      "[[0.99981045]]\n",
      "[[0.99981487]]\n",
      "[[0.00023459]]\n",
      "[[0.00013604]]\n",
      "\n",
      "[[0.49723116]]\n",
      "\n"
     ]
    }
   ],
   "source": [
    "# Assigning the axes to the different elements.\n",
    "plt.plot(range(max_iter), cost)\n",
    "\n",
    "# Labelling the x axis as the iterations axis.\n",
    "plt.xlabel(\"Iterations\")\n",
    "\n",
    "# Labelling the y axis as the cost axis.\n",
    "plt.ylabel(\"Cost\")\n",
    "\n",
    "# Showing the plot.\n",
    "plt.show()\n",
    "\n",
    "# Test\n",
    "values = (\n",
    "    [0, 1],\n",
    "    [1, 0],\n",
    "    [1, 1],\n",
    "    [0, 0]\n",
    ")\n",
    "\n",
    "def pred_xor():\n",
    "    for value in values:\n",
    "        y_pred = forward(np.array(value), True)\n",
    "        print(y_pred)\n",
    "\n",
    "pred_xor()\n",
    "\n",
    "print()\n",
    "print(y_pred)\n",
    "print()\n"
   ]
  },
  {
   "cell_type": "markdown",
   "metadata": {},
   "source": [
    "## Observation\n",
    "With the initial parameters, the cost function doesn't look that good. It is decreasing which is a good sign but it isn't flattening out. I have tried, multiple different values but this some seems like the best fit.\n",
    "\n",
    "Try out your own values, run the notebook again and see what you get."
   ]
  }
 ],
 "metadata": {
  "kernelspec": {
   "display_name": "Python 3 (ipykernel)",
   "language": "python",
   "name": "python3"
  },
  "language_info": {
   "codemirror_mode": {
    "name": "ipython",
    "version": 3
   },
   "file_extension": ".py",
   "mimetype": "text/x-python",
   "name": "python",
   "nbconvert_exporter": "python",
   "pygments_lexer": "ipython3",
   "version": "3.11.5"
  }
 },
 "nbformat": 4,
 "nbformat_minor": 4
}
