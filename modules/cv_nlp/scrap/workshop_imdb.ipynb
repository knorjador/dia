{
 "cells": [
  {
   "cell_type": "code",
   "execution_count": 10,
   "id": "54b91fac-8e60-4803-b695-d48033ebe787",
   "metadata": {},
   "outputs": [],
   "source": [
    "\n",
    "import re\n",
    "import requests\n",
    "\n",
    "from bs4 import BeautifulSoup\n",
    "\n",
    "def display(to_display, message = ''):\n",
    "    print()\n",
    "    if (len(message ) > 0):\n",
    "        print(' > ' + str(message) + ':')\n",
    "        print()\n",
    "    print(to_display)\n",
    "    print()\n"
   ]
  },
  {
   "cell_type": "code",
   "execution_count": 12,
   "id": "3e0cae96-de91-440e-9972-ba929cfc2684",
   "metadata": {
    "tags": []
   },
   "outputs": [
    {
     "name": "stdout",
     "output_type": "stream",
     "text": [
      "\n",
      "<Response [200]>\n",
      "\n"
     ]
    }
   ],
   "source": [
    "\n",
    "# get html\n",
    "url = 'https://www.imdb.com/chart/top/'\n",
    "headers = { 'User-Agent': 'Mozilla/5.0 (iPad; CPU OS 12_2 like Mac OS X) AppleWebKit/605.1.15 (KHTML, like Gecko) Mobile/15E148' }\n",
    "\n",
    "page = requests.get(url, headers=headers)\n",
    "\n",
    "display(page)\n"
   ]
  },
  {
   "cell_type": "code",
   "execution_count": 39,
   "id": "f344da65-9e29-4eef-994b-1326c983c4c9",
   "metadata": {
    "tags": []
   },
   "outputs": [
    {
     "name": "stdout",
     "output_type": "stream",
     "text": [
      "\n",
      "<div class=\"ipc-title__description\">As rated by regular IMDb voters.</div>\n",
      "\n",
      "\n",
      "As rated by regular IMDb voters.\n",
      "\n"
     ]
    }
   ],
   "source": [
    "\n",
    "# parse html\n",
    "soup = BeautifulSoup(page.content, 'html.parser')\n",
    "\n",
    "tag = soup.find('div', string=re.compile(r'by+'))\n",
    "\n",
    "display(tag)\n",
    "display(tag.text)\n"
   ]
  },
  {
   "cell_type": "code",
   "execution_count": 16,
   "id": "94a22e4d-638d-4251-b101-4a2444e868b1",
   "metadata": {
    "tags": []
   },
   "outputs": [
    {
     "name": "stdout",
     "output_type": "stream",
     "text": [
      "\n",
      "[('<title>IMDb Top 250 Movies</title>', 'IMDb Top 250 Movies'), ('<title>IMDb, an Amazon company</title>', 'IMDb, an Amazon company')]\n",
      "\n",
      "\n",
      "['IMDb Top 250 Movies', 'IMDb, an Amazon company']\n",
      "\n"
     ]
    }
   ],
   "source": [
    "\n",
    "# use regex \n",
    "\n",
    "with_tag = re.findall(r'(<title>(.*?)</title>)', page.text)\n",
    "\n",
    "without_tag = re.findall(r'<title>(.*?)</title>', page.text)\n",
    "\n",
    "display(with_tag)\n",
    "display(without_tag)\n"
   ]
  }
 ],
 "metadata": {
  "kernelspec": {
   "display_name": "Python 3 (ipykernel)",
   "language": "python",
   "name": "python3"
  },
  "language_info": {
   "codemirror_mode": {
    "name": "ipython",
    "version": 3
   },
   "file_extension": ".py",
   "mimetype": "text/x-python",
   "name": "python",
   "nbconvert_exporter": "python",
   "pygments_lexer": "ipython3",
   "version": "3.11.7"
  }
 },
 "nbformat": 4,
 "nbformat_minor": 5
}
