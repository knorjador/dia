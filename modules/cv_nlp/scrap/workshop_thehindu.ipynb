{
 "cells": [
  {
   "cell_type": "code",
   "execution_count": 4,
   "id": "f00bc4e4-fc79-4b57-8b7f-7ffe46763034",
   "metadata": {
    "tags": []
   },
   "outputs": [],
   "source": [
    "\n",
    "import requests\n",
    "\n",
    "from bs4 import BeautifulSoup\n",
    "\n",
    "def display(to_display, message = ''):\n",
    "    print()\n",
    "    if (len(message ) > 0):\n",
    "        print(' > ' + str(message) + ':')\n",
    "        print()\n",
    "    print(to_display)\n",
    "    print()\n"
   ]
  },
  {
   "cell_type": "code",
   "execution_count": 6,
   "id": "b8fd8256-bc51-4c64-8529-054bb7d26236",
   "metadata": {
    "tags": []
   },
   "outputs": [
    {
     "name": "stdout",
     "output_type": "stream",
     "text": [
      "\n",
      "<Response [200]>\n",
      "\n"
     ]
    }
   ],
   "source": [
    "\n",
    "# get html\n",
    "url = 'https://www.thehindu.com/news/national/coronavirus-live-updates-may-29-2021/article34672944.ece?homepage=true'\n",
    "\n",
    "page = requests.get(url)\n",
    "\n",
    "display(page)\n"
   ]
  },
  {
   "cell_type": "code",
   "execution_count": 8,
   "id": "318b064c-c968-4faa-a9ed-61041bd735cb",
   "metadata": {
    "tags": []
   },
   "outputs": [
    {
     "name": "stdout",
     "output_type": "stream",
     "text": [
      "\n",
      "<source media=\"(min-width: 1600px)\" sizes=\"960px\" srcset=\"https://th-i.thgim.com/public/news/national/2g2qwq/article53557510.ece/alternates/LANDSCAPE_1200/Migrants2jpg\"/>\n",
      "\n"
     ]
    }
   ],
   "source": [
    "\n",
    "# parse html\n",
    "soup = BeautifulSoup(page.content, 'html.parser')\n",
    "\n",
    "img_tag = soup.find('source')\n",
    "\n",
    "display(img_tag)\n"
   ]
  },
  {
   "cell_type": "code",
   "execution_count": 10,
   "id": "3d615010-347f-405c-a4b0-a942235c8cee",
   "metadata": {
    "tags": []
   },
   "outputs": [
    {
     "name": "stdout",
     "output_type": "stream",
     "text": [
      "\n",
      "https://th-i.thgim.com/public/news/national/2g2qwq/article53557510.ece/alternates/LANDSCAPE_1200/Migrants2jpg\n",
      "\n"
     ]
    }
   ],
   "source": [
    "\n",
    "img_url = img_tag['srcset']\n",
    "\n",
    "display(img_url)\n"
   ]
  },
  {
   "cell_type": "code",
   "execution_count": 12,
   "id": "bae6e9bb-2f3f-40b8-9188-28f88af74df6",
   "metadata": {
    "tags": []
   },
   "outputs": [
    {
     "name": "stdout",
     "output_type": "stream",
     "text": [
      "\n",
      " > image saved\n",
      "\n"
     ]
    }
   ],
   "source": [
    "\n",
    "# dl img \n",
    "\n",
    "image = requests.get(img_url)\n",
    "\n",
    "with open('image.jpg', 'wb') as file:\n",
    "    for chunk in image.iter_content(chunk_size=1024):\n",
    "        file.write(chunk)\n",
    "    display(' > image saved')\n",
    "        "
   ]
  },
  {
   "cell_type": "code",
   "execution_count": 14,
   "id": "10f7d2b1-56ef-4649-8b45-66a318ddb469",
   "metadata": {
    "tags": []
   },
   "outputs": [
    {
     "name": "stdout",
     "output_type": "stream",
     "text": [
      "\n",
      " > video saved\n",
      "\n"
     ]
    }
   ],
   "source": [
    "\n",
    "# dl video \n",
    "\n",
    "video = requests.get('http://www.howtowebscrape.com/examples/media/images/BigRabbit.mp4')\n",
    "\n",
    "with open('BigRabbit.mp4', 'wb') as file:\n",
    "    for chunk in video.iter_content(chunk_size=1024):\n",
    "        file.write(chunk)\n",
    "    display(' > video saved')\n"
   ]
  }
 ],
 "metadata": {
  "kernelspec": {
   "display_name": "Python 3 (ipykernel)",
   "language": "python",
   "name": "python3"
  },
  "language_info": {
   "codemirror_mode": {
    "name": "ipython",
    "version": 3
   },
   "file_extension": ".py",
   "mimetype": "text/x-python",
   "name": "python",
   "nbconvert_exporter": "python",
   "pygments_lexer": "ipython3",
   "version": "3.11.7"
  }
 },
 "nbformat": 4,
 "nbformat_minor": 5
}
