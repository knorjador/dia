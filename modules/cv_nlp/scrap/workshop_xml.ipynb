{
 "cells": [
  {
   "cell_type": "code",
   "execution_count": 6,
   "id": "149fc55b-295b-4fdb-bfe1-28e7febc11c2",
   "metadata": {
    "tags": []
   },
   "outputs": [],
   "source": [
    "\n",
    "import requests\n",
    "\n",
    "from bs4 import BeautifulSoup\n",
    "\n",
    "def display(to_display, message = ''):\n",
    "    print()\n",
    "    if (len(message ) > 0):\n",
    "        print(' > ' + str(message) + ':')\n",
    "        print()\n",
    "    print(to_display)\n",
    "    print()\n"
   ]
  },
  {
   "cell_type": "code",
   "execution_count": 8,
   "id": "8b57a1f3-d484-436d-9e43-d30381b46e50",
   "metadata": {
    "tags": []
   },
   "outputs": [
    {
     "name": "stdout",
     "output_type": "stream",
     "text": [
      "\n",
      "b'<?xml version=\"1.0\" encoding=\"UTF-8\"?>\\n<note>\\n  <to>Tove</to>\\n  <from>Jani</from>\\n  <heading>Reminder</heading>\\n  <body>Don\\'t forget me this weekend!</body>\\n</note>'\n",
      "\n"
     ]
    }
   ],
   "source": [
    "\n",
    "# get xml\n",
    "url = 'https://www.w3schools.com/xml/note.xml'\n",
    "\n",
    "xml = requests.get(url)\n",
    "\n",
    "display(xml.content)\n"
   ]
  },
  {
   "cell_type": "code",
   "execution_count": 11,
   "id": "44010f8b-544d-4a9d-80a3-edd67d3462bf",
   "metadata": {
    "tags": []
   },
   "outputs": [
    {
     "name": "stdout",
     "output_type": "stream",
     "text": [
      "\n",
      "<?xml version=\"1.0\" encoding=\"utf-8\"?>\n",
      "<note>\n",
      "<to>Tove</to>\n",
      "<from>Jani</from>\n",
      "<heading>Reminder</heading>\n",
      "<body>Don't forget me this weekend!</body>\n",
      "</note>\n",
      "\n"
     ]
    }
   ],
   "source": [
    "\n",
    "# parse xml \n",
    "soup = BeautifulSoup(xml.content, 'xml')\n",
    "\n",
    "display(soup)\n"
   ]
  },
  {
   "cell_type": "code",
   "execution_count": 13,
   "id": "cdd66085-0590-4277-8bbd-0f9649ccc89b",
   "metadata": {
    "tags": []
   },
   "outputs": [
    {
     "name": "stdout",
     "output_type": "stream",
     "text": [
      "\n",
      "<heading>Reminder</heading>\n",
      "\n",
      "\n",
      "Reminder\n",
      "\n"
     ]
    }
   ],
   "source": [
    "\n",
    "heading = soup.find('heading')\n",
    "\n",
    "display(heading)\n",
    "display(heading.text)\n"
   ]
  },
  {
   "cell_type": "code",
   "execution_count": 15,
   "id": "2207e62b-f804-45d7-a020-983c67490ee6",
   "metadata": {
    "tags": []
   },
   "outputs": [
    {
     "name": "stdout",
     "output_type": "stream",
     "text": [
      "\n",
      "<note>\n",
      "<to>Tove</to>\n",
      "<from>Jani</from>\n",
      "<heading>Reminder</heading>\n",
      "<body>Don't forget me this weekend!</body>\n",
      "</note>\n",
      "\n",
      "\n",
      "\n",
      "Tove\n",
      "Jani\n",
      "Reminder\n",
      "Don't forget me this weekend!\n",
      "\n",
      "\n"
     ]
    }
   ],
   "source": [
    "\n",
    "note = soup.find('note')\n",
    "\n",
    "display(note)\n",
    "display(note.text)\n"
   ]
  }
 ],
 "metadata": {
  "kernelspec": {
   "display_name": "Python 3 (ipykernel)",
   "language": "python",
   "name": "python3"
  },
  "language_info": {
   "codemirror_mode": {
    "name": "ipython",
    "version": 3
   },
   "file_extension": ".py",
   "mimetype": "text/x-python",
   "name": "python",
   "nbconvert_exporter": "python",
   "pygments_lexer": "ipython3",
   "version": "3.11.7"
  }
 },
 "nbformat": 4,
 "nbformat_minor": 5
}
