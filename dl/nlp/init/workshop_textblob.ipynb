{
 "cells": [
  {
   "cell_type": "code",
   "execution_count": 4,
   "id": "3c69041b-ea66-4622-9a2b-d3ae0e733fb3",
   "metadata": {},
   "outputs": [],
   "source": [
    "\n",
    "from textblob import TextBlob\n",
    "\n",
    "def display(to_display):\n",
    "    print()\n",
    "    print(to_display)\n",
    "    print()\n",
    "    "
   ]
  },
  {
   "cell_type": "code",
   "execution_count": 5,
   "id": "3fa5b423-7d65-4552-b5d1-0e61dd3e9231",
   "metadata": {},
   "outputs": [
    {
     "name": "stdout",
     "output_type": "stream",
     "text": [
      "\n",
      "If you can force your heart and nerve and sinew to serve your turn long after they are gone. And so hold on when there is nothing in you except the Will which says to them: 'Hold on!'\n",
      "\n",
      "\n"
     ]
    }
   ],
   "source": [
    "\n",
    "# creating the corpus\n",
    "corpus = '''If you can force your heart and nerve and sinew to serve your turn long after they are gone. And so hold on when there is nothing in you except the Will which says to them: 'Hold on!'\n",
    "'''\n",
    "\n",
    "blob_object = TextBlob(corpus)\n",
    "\n",
    "display(blob_object)\n"
   ]
  },
  {
   "cell_type": "markdown",
   "id": "5b74b6d5-2b79-47d9-a0fc-58793e41a239",
   "metadata": {},
   "source": [
    "\n",
    "## Word Tokenization\n"
   ]
  },
  {
   "cell_type": "code",
   "execution_count": 6,
   "id": "13128c3f-0fb8-420d-a813-ce6a42bdf83c",
   "metadata": {},
   "outputs": [
    {
     "name": "stdout",
     "output_type": "stream",
     "text": [
      "\n",
      "['If', 'you', 'can', 'force', 'your', 'heart', 'and', 'nerve', 'and', 'sinew', 'to', 'serve', 'your', 'turn', 'long', 'after', 'they', 'are', 'gone', 'And', 'so', 'hold', 'on', 'when', 'there', 'is', 'nothing', 'in', 'you', 'except', 'the', 'Will', 'which', 'says', 'to', 'them', \"'Hold\", 'on']\n",
      "\n",
      "\n",
      "38\n",
      "\n"
     ]
    }
   ],
   "source": [
    "\n",
    "corpus_words = blob_object.words\n",
    "\n",
    "display(corpus_words)\n",
    "display(len(corpus_words))\n"
   ]
  },
  {
   "cell_type": "code",
   "execution_count": 7,
   "id": "eb633c33-fe01-40d4-9473-529f2c6f883c",
   "metadata": {},
   "outputs": [
    {
     "name": "stdout",
     "output_type": "stream",
     "text": [
      "\n",
      "[\"If you can force your heart and nerve and sinew to serve your turn long after they are gone. And so hold on when there is nothing in you except the Will which says to them: 'Hold on!'\\n\"]\n",
      "\n",
      "\n",
      "1\n",
      "\n"
     ]
    }
   ],
   "source": [
    "\n",
    "from nltk.tokenize import TabTokenizer\n",
    "\n",
    "tokenizer = TabTokenizer()\n",
    "blob_object = TextBlob(corpus, tokenizer = tokenizer)\n",
    "\n",
    "# word tokenization of the sample corpus\n",
    "corpus_words = blob_object.tokens\n",
    "\n",
    "display(corpus_words)\n",
    "display(len(corpus_words))\n"
   ]
  },
  {
   "cell_type": "markdown",
   "id": "740fc702-4dc4-4b1d-84f8-e04b564c5a85",
   "metadata": {},
   "source": [
    "\n",
    "## Sentence Tokenization\n"
   ]
  },
  {
   "cell_type": "code",
   "execution_count": 8,
   "id": "a4d1a29a-22c0-4fa4-a950-49feb1b2fbaa",
   "metadata": {},
   "outputs": [
    {
     "name": "stdout",
     "output_type": "stream",
     "text": [
      "\n",
      "[Sentence(\"If you can force your heart and nerve and sinew to serve your turn long after they are gone.\"), Sentence(\"And so hold on when there is nothing in you except the Will which says to them: 'Hold on!'\")]\n",
      "\n",
      "\n",
      "2\n",
      "\n"
     ]
    }
   ],
   "source": [
    "\n",
    "corpus_sentence = blob_object.sentences\n",
    "\n",
    "display(corpus_sentence)\n",
    "display(len(corpus_sentence))\n"
   ]
  }
 ],
 "metadata": {
  "kernelspec": {
   "display_name": "Python 3 (ipykernel)",
   "language": "python",
   "name": "python3"
  },
  "language_info": {
   "codemirror_mode": {
    "name": "ipython",
    "version": 3
   },
   "file_extension": ".py",
   "mimetype": "text/x-python",
   "name": "python",
   "nbconvert_exporter": "python",
   "pygments_lexer": "ipython3",
   "version": "3.11.5"
  }
 },
 "nbformat": 4,
 "nbformat_minor": 5
}
