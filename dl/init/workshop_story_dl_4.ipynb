{
 "cells": [
  {
   "cell_type": "code",
   "execution_count": 18,
   "id": "0f944fd1-d002-4179-aa62-916578765983",
   "metadata": {
    "tags": []
   },
   "outputs": [
    {
     "name": "stdout",
     "output_type": "stream",
     "text": [
      "\u001b[1m1/1\u001b[0m \u001b[32m━━━━━━━━━━━━━━━━━━━━\u001b[0m\u001b[37m\u001b[0m \u001b[1m0s\u001b[0m 33ms/step\n",
      "\n",
      "    > Predictions:\n",
      "\n",
      "    [0.02015554]\n",
      "    [0.9767818]\n",
      "    [0.9767113]\n",
      "    [0.02230102]\n",
      "\n"
     ]
    }
   ],
   "source": [
    "\n",
    "#### ---- XOR with Tensorflow ---- ####\n",
    "\n",
    "import warnings\n",
    "import numpy as np\n",
    "import tensorflow as tf\n",
    "\n",
    "warnings.simplefilter(action = \"ignore\", category = Warning)\n",
    "warnings.filterwarnings(\"ignore\")\n",
    "\n",
    "# input && output vectors\n",
    "X = np.array([[0, 0], [0, 1], [1, 0], [1, 1]], dtype = np.float32)\n",
    "Y = np.array([[0], [1], [1], [0]], dtype = np.float32)\n",
    "\n",
    "# define model\n",
    "inputs = tf.keras.Input(shape=(2,))\n",
    "dense_1 = tf.keras.layers.Dense(2, activation = 'sigmoid')(inputs)\n",
    "dense_2 = tf.keras.layers.Dense(1, activation = 'sigmoid')(dense_1)\n",
    "\n",
    "model = tf.keras.Model(inputs = inputs, outputs = dense_2)\n",
    "\n",
    "# optimize && compile model\n",
    "optimizer = tf.keras.optimizers.SGD(learning_rate = 1.3)\n",
    "model.compile(optimizer = optimizer, loss = 'mean_squared_error')\n",
    "\n",
    "# train model \n",
    "history = model.fit(X, Y, epochs = 5000, verbose = 0)\n",
    "\n",
    "# display results\n",
    "predictions = model.predict(X)\n",
    "print(\"\\n    > Predictions:\\n\")\n",
    "for pred in predictions:\n",
    "    print('    ' + str(pred))\n",
    "print()\n",
    "\n"
   ]
  },
  {
   "cell_type": "code",
   "execution_count": null,
   "id": "dacc8ab4-203d-440a-b7dd-b23477da7768",
   "metadata": {},
   "outputs": [],
   "source": []
  }
 ],
 "metadata": {
  "kernelspec": {
   "display_name": "Python 3 (ipykernel)",
   "language": "python",
   "name": "python3"
  },
  "language_info": {
   "codemirror_mode": {
    "name": "ipython",
    "version": 3
   },
   "file_extension": ".py",
   "mimetype": "text/x-python",
   "name": "python",
   "nbconvert_exporter": "python",
   "pygments_lexer": "ipython3",
   "version": "3.11.5"
  }
 },
 "nbformat": 4,
 "nbformat_minor": 5
}
